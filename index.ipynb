{
 "cells": [
  {
   "cell_type": "markdown",
   "id": "c5593b6c",
   "metadata": {},
   "source": [
    "# **AVIATION DATASET DATA ANALYSIS PROJECT**"
   ]
  },
  {
   "cell_type": "markdown",
   "id": "0c1e1c0a",
   "metadata": {},
   "source": [
    "## **1. Objectives**<hr>"
   ]
  },
  {
   "cell_type": "markdown",
   "id": "9ee8ad6a",
   "metadata": {},
   "source": [
    "#### **Business Question**<br>\n",
    "Your company is expanding in to new industries to diversify its portfolio. Specifically, they are interested in purchasing and operating airplanes for commercial and private enterprises, but do not know anything about the potential risks of aircraft. You are charged with determining which aircraft are the lowest risk for the company to start this new business endeavor. You must then translate your findings into actionable insights that the head of the new aviation division can use to help decide which aircraft to purchase."
   ]
  },
  {
   "cell_type": "markdown",
   "id": "d9b592a7",
   "metadata": {},
   "source": [
    "### Objective 1<br>\n",
    "Which aircraft is the safest?"
   ]
  },
  {
   "cell_type": "markdown",
   "id": "9b243e45",
   "metadata": {},
   "source": [
    "### Objective 2<br>\n",
    "Identify the safest and most dangerous countries & locations to fly over"
   ]
  },
  {
   "cell_type": "markdown",
   "id": "933601b4",
   "metadata": {},
   "source": [
    "### Objective 3<br>\n",
    "The most common type of accidents so as to invest in advance in prevetive measures"
   ]
  },
  {
   "cell_type": "markdown",
   "id": "2eec7c23",
   "metadata": {},
   "source": [
    "<br>"
   ]
  },
  {
   "cell_type": "markdown",
   "id": "af2095b9",
   "metadata": {},
   "source": [
    "## **2. Data Understanding**"
   ]
  }
 ],
 "metadata": {
  "language_info": {
   "name": "python"
  }
 },
 "nbformat": 4,
 "nbformat_minor": 5
}
