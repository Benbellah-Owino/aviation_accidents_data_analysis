{
 "cells": [
  {
   "cell_type": "markdown",
   "id": "c5593b6c",
   "metadata": {},
   "source": [
    "# **AVIATION DATASET DATA ANALYSIS PROJECT**"
   ]
  },
  {
   "cell_type": "markdown",
   "id": "0c1e1c0a",
   "metadata": {},
   "source": [
    "## **1. Objectives**<hr>"
   ]
  },
  {
   "cell_type": "markdown",
   "id": "9ee8ad6a",
   "metadata": {},
   "source": [
    "#### **Business Question**<br>\n",
    "Your company is expanding in to new industries to diversify its portfolio. Specifically, they are interested in purchasing and operating airplanes for commercial and private enterprises, but do not know anything about the potential risks of aircraft. You are charged with determining which aircraft are the lowest risk for the company to start this new business endeavor. You must then translate your findings into actionable insights that the head of the new aviation division can use to help decide which aircraft to purchase."
   ]
  },
  {
   "cell_type": "markdown",
   "id": "d9b592a7",
   "metadata": {},
   "source": [
    "### Objective 1<br>\n",
    "Which aircraft is the safest?"
   ]
  },
  {
   "cell_type": "markdown",
   "id": "9b243e45",
   "metadata": {},
   "source": [
    "### Objective 2<br>\n",
    "Identify the safest and most dangerous countries & locations to fly over"
   ]
  },
  {
   "cell_type": "markdown",
   "id": "933601b4",
   "metadata": {},
   "source": [
    "### Objective 3<br>\n",
    "The most common type of accidents so as to invest in advance in preventive measures"
   ]
  },
  {
   "cell_type": "markdown",
   "id": "2eec7c23",
   "metadata": {},
   "source": [
    "<br>"
   ]
  },
  {
   "cell_type": "markdown",
   "id": "af2095b9",
   "metadata": {},
   "source": [
    "## **2. Data Understanding**<hr>"
   ]
  },
  {
   "cell_type": "markdown",
   "id": "f52e189b",
   "metadata": {},
   "source": [
    "In this section we try to understand the data itself. First we have to read the source notes on what is in the columns, the categories in categorical and what missing data means. We look at its shape and also at the descriptive statistics of the data."
   ]
  },
  {
   "cell_type": "markdown",
   "id": "dda9074c",
   "metadata": {},
   "source": [
    "**Importing libraries and data**"
   ]
  },
  {
   "cell_type": "code",
   "execution_count": 1,
   "id": "5546134d",
   "metadata": {},
   "outputs": [],
   "source": [
    "#Importing libraries\n",
    "import pandas as pd\n",
    "import matplotlib.pyplot as plt\n",
    "import seaborn as sns"
   ]
  },
  {
   "cell_type": "code",
   "execution_count": 2,
   "id": "65ea010a",
   "metadata": {},
   "outputs": [],
   "source": [
    "#Importing the data\n",
    "acc_df = pd.read_csv(\"data/aviation-accident-data-2023-05-16.csv\")"
   ]
  },
  {
   "cell_type": "markdown",
   "id": "2340ad1f",
   "metadata": {},
   "source": [
    "Lets look at the top and bottom 10 rows of the dataset"
   ]
  },
  {
   "cell_type": "code",
   "execution_count": 3,
   "id": "540c5916",
   "metadata": {},
   "outputs": [
    {
     "data": {
      "text/html": [
       "<div>\n",
       "<style scoped>\n",
       "    .dataframe tbody tr th:only-of-type {\n",
       "        vertical-align: middle;\n",
       "    }\n",
       "\n",
       "    .dataframe tbody tr th {\n",
       "        vertical-align: top;\n",
       "    }\n",
       "\n",
       "    .dataframe thead th {\n",
       "        text-align: right;\n",
       "    }\n",
       "</style>\n",
       "<table border=\"1\" class=\"dataframe\">\n",
       "  <thead>\n",
       "    <tr style=\"text-align: right;\">\n",
       "      <th></th>\n",
       "      <th>date</th>\n",
       "      <th>type</th>\n",
       "      <th>registration</th>\n",
       "      <th>operator</th>\n",
       "      <th>fatalities</th>\n",
       "      <th>location</th>\n",
       "      <th>country</th>\n",
       "      <th>cat</th>\n",
       "      <th>year</th>\n",
       "    </tr>\n",
       "  </thead>\n",
       "  <tbody>\n",
       "    <tr>\n",
       "      <th>0</th>\n",
       "      <td>date unk.</td>\n",
       "      <td>Antonov An-12B</td>\n",
       "      <td>T-1206</td>\n",
       "      <td>Indonesian AF</td>\n",
       "      <td>NaN</td>\n",
       "      <td>NaN</td>\n",
       "      <td>Unknown country</td>\n",
       "      <td>U1</td>\n",
       "      <td>unknown</td>\n",
       "    </tr>\n",
       "    <tr>\n",
       "      <th>1</th>\n",
       "      <td>date unk.</td>\n",
       "      <td>Antonov An-12B</td>\n",
       "      <td>T-1204</td>\n",
       "      <td>Indonesian AF</td>\n",
       "      <td>NaN</td>\n",
       "      <td>NaN</td>\n",
       "      <td>Unknown country</td>\n",
       "      <td>U1</td>\n",
       "      <td>unknown</td>\n",
       "    </tr>\n",
       "    <tr>\n",
       "      <th>2</th>\n",
       "      <td>date unk.</td>\n",
       "      <td>Antonov An-12B</td>\n",
       "      <td>T-1201</td>\n",
       "      <td>Indonesian AF</td>\n",
       "      <td>NaN</td>\n",
       "      <td>NaN</td>\n",
       "      <td>Unknown country</td>\n",
       "      <td>U1</td>\n",
       "      <td>unknown</td>\n",
       "    </tr>\n",
       "    <tr>\n",
       "      <th>3</th>\n",
       "      <td>date unk.</td>\n",
       "      <td>Antonov An-12BK</td>\n",
       "      <td>NaN</td>\n",
       "      <td>Soviet AF</td>\n",
       "      <td>NaN</td>\n",
       "      <td>Tiksi Airport (IKS)</td>\n",
       "      <td>Russia</td>\n",
       "      <td>A1</td>\n",
       "      <td>unknown</td>\n",
       "    </tr>\n",
       "    <tr>\n",
       "      <th>4</th>\n",
       "      <td>date unk.</td>\n",
       "      <td>Antonov An-12BP</td>\n",
       "      <td>CCCP-11815</td>\n",
       "      <td>Soviet AF</td>\n",
       "      <td>0</td>\n",
       "      <td>Massawa Airport ...</td>\n",
       "      <td>Eritrea</td>\n",
       "      <td>A1</td>\n",
       "      <td>unknown</td>\n",
       "    </tr>\n",
       "    <tr>\n",
       "      <th>5</th>\n",
       "      <td>date unk.</td>\n",
       "      <td>Antonov An-12BP</td>\n",
       "      <td>CCCP-12172</td>\n",
       "      <td>Soviet AF</td>\n",
       "      <td>NaN</td>\n",
       "      <td>NaN</td>\n",
       "      <td>Russia</td>\n",
       "      <td>U1</td>\n",
       "      <td>unknown</td>\n",
       "    </tr>\n",
       "    <tr>\n",
       "      <th>6</th>\n",
       "      <td>date unk.</td>\n",
       "      <td>Antonov An-2</td>\n",
       "      <td>CCCP-N574</td>\n",
       "      <td>GUSMP, Directorate of Polar Aviation</td>\n",
       "      <td>NaN</td>\n",
       "      <td>unknown</td>\n",
       "      <td>Russia</td>\n",
       "      <td>A1</td>\n",
       "      <td>unknown</td>\n",
       "    </tr>\n",
       "    <tr>\n",
       "      <th>7</th>\n",
       "      <td>date unk.</td>\n",
       "      <td>Antonov An-2</td>\n",
       "      <td>CCCP-01216</td>\n",
       "      <td>Aeroflot</td>\n",
       "      <td>0</td>\n",
       "      <td>Chita region</td>\n",
       "      <td>Russia</td>\n",
       "      <td>A2</td>\n",
       "      <td>unknown</td>\n",
       "    </tr>\n",
       "    <tr>\n",
       "      <th>8</th>\n",
       "      <td>date unk.</td>\n",
       "      <td>Antonov An-24B</td>\n",
       "      <td>RA-47794</td>\n",
       "      <td>Russian AF</td>\n",
       "      <td>0</td>\n",
       "      <td>NaN</td>\n",
       "      <td>Russia</td>\n",
       "      <td>A1</td>\n",
       "      <td>unknown</td>\n",
       "    </tr>\n",
       "    <tr>\n",
       "      <th>9</th>\n",
       "      <td>date unk.</td>\n",
       "      <td>Antonov An-26</td>\n",
       "      <td>01 red</td>\n",
       "      <td>Soviet AF</td>\n",
       "      <td>0</td>\n",
       "      <td>Orenburg Air Base</td>\n",
       "      <td>Russia</td>\n",
       "      <td>O1</td>\n",
       "      <td>unknown</td>\n",
       "    </tr>\n",
       "  </tbody>\n",
       "</table>\n",
       "</div>"
      ],
      "text/plain": [
       "        date             type registration  \\\n",
       "0  date unk.   Antonov An-12B       T-1206   \n",
       "1  date unk.   Antonov An-12B       T-1204   \n",
       "2  date unk.   Antonov An-12B       T-1201   \n",
       "3  date unk.  Antonov An-12BK          NaN   \n",
       "4  date unk.  Antonov An-12BP   CCCP-11815   \n",
       "5  date unk.  Antonov An-12BP   CCCP-12172   \n",
       "6  date unk.     Antonov An-2    CCCP-N574   \n",
       "7  date unk.     Antonov An-2   CCCP-01216   \n",
       "8  date unk.   Antonov An-24B     RA-47794   \n",
       "9  date unk.    Antonov An-26       01 red   \n",
       "\n",
       "                               operator fatalities             location  \\\n",
       "0                         Indonesian AF        NaN                  NaN   \n",
       "1                         Indonesian AF        NaN                  NaN   \n",
       "2                         Indonesian AF        NaN                  NaN   \n",
       "3                             Soviet AF        NaN  Tiksi Airport (IKS)   \n",
       "4                             Soviet AF          0  Massawa Airport ...   \n",
       "5                             Soviet AF        NaN                  NaN   \n",
       "6  GUSMP, Directorate of Polar Aviation        NaN              unknown   \n",
       "7                              Aeroflot          0         Chita region   \n",
       "8                            Russian AF          0                  NaN   \n",
       "9                             Soviet AF          0    Orenburg Air Base   \n",
       "\n",
       "           country cat     year  \n",
       "0  Unknown country  U1  unknown  \n",
       "1  Unknown country  U1  unknown  \n",
       "2  Unknown country  U1  unknown  \n",
       "3           Russia  A1  unknown  \n",
       "4          Eritrea  A1  unknown  \n",
       "5           Russia  U1  unknown  \n",
       "6           Russia  A1  unknown  \n",
       "7           Russia  A2  unknown  \n",
       "8           Russia  A1  unknown  \n",
       "9           Russia  O1  unknown  "
      ]
     },
     "execution_count": 3,
     "metadata": {},
     "output_type": "execute_result"
    }
   ],
   "source": [
    "acc_df.head(10)"
   ]
  },
  {
   "cell_type": "code",
   "execution_count": 4,
   "id": "3b8edfbf",
   "metadata": {},
   "outputs": [
    {
     "data": {
      "text/html": [
       "<div>\n",
       "<style scoped>\n",
       "    .dataframe tbody tr th:only-of-type {\n",
       "        vertical-align: middle;\n",
       "    }\n",
       "\n",
       "    .dataframe tbody tr th {\n",
       "        vertical-align: top;\n",
       "    }\n",
       "\n",
       "    .dataframe thead th {\n",
       "        text-align: right;\n",
       "    }\n",
       "</style>\n",
       "<table border=\"1\" class=\"dataframe\">\n",
       "  <thead>\n",
       "    <tr style=\"text-align: right;\">\n",
       "      <th></th>\n",
       "      <th>date</th>\n",
       "      <th>type</th>\n",
       "      <th>registration</th>\n",
       "      <th>operator</th>\n",
       "      <th>fatalities</th>\n",
       "      <th>location</th>\n",
       "      <th>country</th>\n",
       "      <th>cat</th>\n",
       "      <th>year</th>\n",
       "    </tr>\n",
       "  </thead>\n",
       "  <tbody>\n",
       "    <tr>\n",
       "      <th>23957</th>\n",
       "      <td>21-APR-2023</td>\n",
       "      <td>Ilyushin Il-76TD</td>\n",
       "      <td>ST-BDN</td>\n",
       "      <td>Badr Airlines</td>\n",
       "      <td>0</td>\n",
       "      <td>Khartoum Interna...</td>\n",
       "      <td>Sudan</td>\n",
       "      <td>O1</td>\n",
       "      <td>2023</td>\n",
       "    </tr>\n",
       "    <tr>\n",
       "      <th>23958</th>\n",
       "      <td>21-APR-2023</td>\n",
       "      <td>Beech 200 Super King Air</td>\n",
       "      <td>LV-WPM</td>\n",
       "      <td>Flytec SA</td>\n",
       "      <td>0</td>\n",
       "      <td>Salta-MartÃ­n Mi...</td>\n",
       "      <td>Argentina</td>\n",
       "      <td>A2</td>\n",
       "      <td>2023</td>\n",
       "    </tr>\n",
       "    <tr>\n",
       "      <th>23959</th>\n",
       "      <td>26-APR-2023</td>\n",
       "      <td>Boeing 777-233LR</td>\n",
       "      <td>C-FIUF</td>\n",
       "      <td>Air Canada</td>\n",
       "      <td>0</td>\n",
       "      <td>Sydney-Kingsford...</td>\n",
       "      <td>Australia</td>\n",
       "      <td>A2</td>\n",
       "      <td>2023</td>\n",
       "    </tr>\n",
       "    <tr>\n",
       "      <th>23960</th>\n",
       "      <td>09-MAY-2023</td>\n",
       "      <td>Cessna 208 Caravan 675</td>\n",
       "      <td>PK-HVG</td>\n",
       "      <td>Dimonim Air</td>\n",
       "      <td>0</td>\n",
       "      <td>Yabi Airstrip</td>\n",
       "      <td>Indonesia</td>\n",
       "      <td>A2</td>\n",
       "      <td>2023</td>\n",
       "    </tr>\n",
       "    <tr>\n",
       "      <th>23961</th>\n",
       "      <td>10-MAY-2023</td>\n",
       "      <td>Learjet 36A</td>\n",
       "      <td>N56PA</td>\n",
       "      <td>Phoenix Air</td>\n",
       "      <td>3</td>\n",
       "      <td>near San Clemente Isl...</td>\n",
       "      <td>USA</td>\n",
       "      <td>A1</td>\n",
       "      <td>2023</td>\n",
       "    </tr>\n",
       "    <tr>\n",
       "      <th>23962</th>\n",
       "      <td>11-MAY-2023</td>\n",
       "      <td>Hawker 900XP</td>\n",
       "      <td>PK-LRU</td>\n",
       "      <td>Angkasa Super Services</td>\n",
       "      <td>0</td>\n",
       "      <td>Maleo Airport (MOH)</td>\n",
       "      <td>Indonesia</td>\n",
       "      <td>A2</td>\n",
       "      <td>2023</td>\n",
       "    </tr>\n",
       "    <tr>\n",
       "      <th>23963</th>\n",
       "      <td>11-MAY-2023</td>\n",
       "      <td>Cessna 208B Grand Caravan</td>\n",
       "      <td>PK-NGA</td>\n",
       "      <td>Nasional Global Aviasi</td>\n",
       "      <td>0</td>\n",
       "      <td>Fentheik Airstrip</td>\n",
       "      <td>Indonesia</td>\n",
       "      <td>A2</td>\n",
       "      <td>2023</td>\n",
       "    </tr>\n",
       "    <tr>\n",
       "      <th>23964</th>\n",
       "      <td>12-MAY-2023</td>\n",
       "      <td>Cessna 208B Grand Caravan</td>\n",
       "      <td>5X-RBR</td>\n",
       "      <td>Bar Aviation</td>\n",
       "      <td>0</td>\n",
       "      <td>Kampala-Kajjansi...</td>\n",
       "      <td>Uganda</td>\n",
       "      <td>A1</td>\n",
       "      <td>2023</td>\n",
       "    </tr>\n",
       "    <tr>\n",
       "      <th>23965</th>\n",
       "      <td>14-MAY-2023</td>\n",
       "      <td>Boeing 747-4R7F</td>\n",
       "      <td>LX-OCV</td>\n",
       "      <td>Cargolux</td>\n",
       "      <td>0</td>\n",
       "      <td>Luxembourg-Finde...</td>\n",
       "      <td>Luxembourg</td>\n",
       "      <td>A2</td>\n",
       "      <td>2023</td>\n",
       "    </tr>\n",
       "    <tr>\n",
       "      <th>23966</th>\n",
       "      <td>15-MAY-2023</td>\n",
       "      <td>Learjet 35A</td>\n",
       "      <td>D-CGFQ</td>\n",
       "      <td>GFD</td>\n",
       "      <td>2</td>\n",
       "      <td>Hohn Air Base</td>\n",
       "      <td>Germany</td>\n",
       "      <td>A1</td>\n",
       "      <td>2023</td>\n",
       "    </tr>\n",
       "  </tbody>\n",
       "</table>\n",
       "</div>"
      ],
      "text/plain": [
       "              date                       type registration  \\\n",
       "23957  21-APR-2023           Ilyushin Il-76TD       ST-BDN   \n",
       "23958  21-APR-2023   Beech 200 Super King Air       LV-WPM   \n",
       "23959  26-APR-2023           Boeing 777-233LR       C-FIUF   \n",
       "23960  09-MAY-2023     Cessna 208 Caravan 675       PK-HVG   \n",
       "23961  10-MAY-2023                Learjet 36A        N56PA   \n",
       "23962  11-MAY-2023               Hawker 900XP       PK-LRU   \n",
       "23963  11-MAY-2023  Cessna 208B Grand Caravan       PK-NGA   \n",
       "23964  12-MAY-2023  Cessna 208B Grand Caravan       5X-RBR   \n",
       "23965  14-MAY-2023            Boeing 747-4R7F       LX-OCV   \n",
       "23966  15-MAY-2023                Learjet 35A       D-CGFQ   \n",
       "\n",
       "                     operator fatalities                  location  \\\n",
       "23957           Badr Airlines          0       Khartoum Interna...   \n",
       "23958               Flytec SA          0       Salta-MartÃ­n Mi...   \n",
       "23959              Air Canada          0       Sydney-Kingsford...   \n",
       "23960             Dimonim Air          0             Yabi Airstrip   \n",
       "23961             Phoenix Air          3  near San Clemente Isl...   \n",
       "23962  Angkasa Super Services          0       Maleo Airport (MOH)   \n",
       "23963  Nasional Global Aviasi          0         Fentheik Airstrip   \n",
       "23964            Bar Aviation          0       Kampala-Kajjansi...   \n",
       "23965                Cargolux          0       Luxembourg-Finde...   \n",
       "23966                     GFD          2             Hohn Air Base   \n",
       "\n",
       "          country cat  year  \n",
       "23957       Sudan  O1  2023  \n",
       "23958   Argentina  A2  2023  \n",
       "23959   Australia  A2  2023  \n",
       "23960   Indonesia  A2  2023  \n",
       "23961         USA  A1  2023  \n",
       "23962   Indonesia  A2  2023  \n",
       "23963   Indonesia  A2  2023  \n",
       "23964      Uganda  A1  2023  \n",
       "23965  Luxembourg  A2  2023  \n",
       "23966     Germany  A1  2023  "
      ]
     },
     "execution_count": 4,
     "metadata": {},
     "output_type": "execute_result"
    }
   ],
   "source": [
    "acc_df.tail(10)"
   ]
  },
  {
   "cell_type": "markdown",
   "id": "fbd419b5",
   "metadata": {},
   "source": [
    "At a first glance we get a rough Idea about the format of data in cells. We can also see what null valuesare denoted as especialy in the non-number columns, where they are denoted as unknown"
   ]
  },
  {
   "cell_type": "code",
   "execution_count": 5,
   "id": "93563c9f",
   "metadata": {},
   "outputs": [
    {
     "data": {
      "text/plain": [
       "(23967, 9)"
      ]
     },
     "execution_count": 5,
     "metadata": {},
     "output_type": "execute_result"
    }
   ],
   "source": [
    "# Getting the shape of data\n",
    "acc_df.shape"
   ]
  },
  {
   "cell_type": "markdown",
   "id": "6ad3dab9",
   "metadata": {},
   "source": [
    "The dataframe has 23967 rows and 9 columns. Any column with less than 23967 entries has null values"
   ]
  },
  {
   "cell_type": "code",
   "execution_count": 6,
   "id": "3fb1922e",
   "metadata": {},
   "outputs": [
    {
     "name": "stdout",
     "output_type": "stream",
     "text": [
      "<class 'pandas.core.frame.DataFrame'>\n",
      "RangeIndex: 23967 entries, 0 to 23966\n",
      "Data columns (total 9 columns):\n",
      " #   Column        Non-Null Count  Dtype \n",
      "---  ------        --------------  ----- \n",
      " 0   date          23967 non-null  object\n",
      " 1   type          23967 non-null  object\n",
      " 2   registration  22419 non-null  object\n",
      " 3   operator      23963 non-null  object\n",
      " 4   fatalities    20029 non-null  object\n",
      " 5   location      23019 non-null  object\n",
      " 6   country       23967 non-null  object\n",
      " 7   cat           23967 non-null  object\n",
      " 8   year          23967 non-null  object\n",
      "dtypes: object(9)\n",
      "memory usage: 1.6+ MB\n"
     ]
    }
   ],
   "source": [
    "# Lets look at the column infomation\n",
    "acc_df.info()"
   ]
  },
  {
   "cell_type": "code",
   "execution_count": 7,
   "id": "3bd2d8cb",
   "metadata": {},
   "outputs": [
    {
     "data": {
      "text/plain": [
       "count     20029\n",
       "unique      369\n",
       "top           0\n",
       "freq      10713\n",
       "Name: fatalities, dtype: object"
      ]
     },
     "execution_count": 7,
     "metadata": {},
     "output_type": "execute_result"
    }
   ],
   "source": [
    "acc_df[\"fatalities\"].describe()"
   ]
  },
  {
   "cell_type": "markdown",
   "id": "0aa639de",
   "metadata": {},
   "source": [
    "We can see all the columns are of object datatype. Fatalities column off the rip needs to be converted to a number. Registration, operator, fatalities and location columns all have null values that have to be dealt with."
   ]
  },
  {
   "cell_type": "markdown",
   "id": "da5091cc",
   "metadata": {},
   "source": [
    "<br>"
   ]
  },
  {
   "cell_type": "markdown",
   "id": "ef90f2dc",
   "metadata": {},
   "source": [
    "**Descriptive Statistics of the data**"
   ]
  },
  {
   "cell_type": "markdown",
   "id": "bdaee9d7",
   "metadata": {},
   "source": [
    "In this section we get the descriptive statistics of the columns"
   ]
  },
  {
   "cell_type": "code",
   "execution_count": 8,
   "id": "131acb31",
   "metadata": {},
   "outputs": [
    {
     "data": {
      "text/html": [
       "<div>\n",
       "<style scoped>\n",
       "    .dataframe tbody tr th:only-of-type {\n",
       "        vertical-align: middle;\n",
       "    }\n",
       "\n",
       "    .dataframe tbody tr th {\n",
       "        vertical-align: top;\n",
       "    }\n",
       "\n",
       "    .dataframe thead th {\n",
       "        text-align: right;\n",
       "    }\n",
       "</style>\n",
       "<table border=\"1\" class=\"dataframe\">\n",
       "  <thead>\n",
       "    <tr style=\"text-align: right;\">\n",
       "      <th></th>\n",
       "      <th>date</th>\n",
       "      <th>type</th>\n",
       "      <th>registration</th>\n",
       "      <th>operator</th>\n",
       "      <th>fatalities</th>\n",
       "      <th>location</th>\n",
       "      <th>country</th>\n",
       "      <th>cat</th>\n",
       "      <th>year</th>\n",
       "    </tr>\n",
       "  </thead>\n",
       "  <tbody>\n",
       "    <tr>\n",
       "      <th>count</th>\n",
       "      <td>23967</td>\n",
       "      <td>23967</td>\n",
       "      <td>22419</td>\n",
       "      <td>23963</td>\n",
       "      <td>20029</td>\n",
       "      <td>23019</td>\n",
       "      <td>23967</td>\n",
       "      <td>23967</td>\n",
       "      <td>23967</td>\n",
       "    </tr>\n",
       "    <tr>\n",
       "      <th>unique</th>\n",
       "      <td>15079</td>\n",
       "      <td>3201</td>\n",
       "      <td>21962</td>\n",
       "      <td>6017</td>\n",
       "      <td>369</td>\n",
       "      <td>14608</td>\n",
       "      <td>232</td>\n",
       "      <td>11</td>\n",
       "      <td>106</td>\n",
       "    </tr>\n",
       "    <tr>\n",
       "      <th>top</th>\n",
       "      <td>10-MAY-1940</td>\n",
       "      <td>Douglas C-47A (DC-3)</td>\n",
       "      <td>LZ-...</td>\n",
       "      <td>USAAF</td>\n",
       "      <td>0</td>\n",
       "      <td>unknown</td>\n",
       "      <td>USA</td>\n",
       "      <td>A1</td>\n",
       "      <td>1944</td>\n",
       "    </tr>\n",
       "    <tr>\n",
       "      <th>freq</th>\n",
       "      <td>171</td>\n",
       "      <td>1916</td>\n",
       "      <td>13</td>\n",
       "      <td>2604</td>\n",
       "      <td>10713</td>\n",
       "      <td>272</td>\n",
       "      <td>4377</td>\n",
       "      <td>17424</td>\n",
       "      <td>1505</td>\n",
       "    </tr>\n",
       "  </tbody>\n",
       "</table>\n",
       "</div>"
      ],
      "text/plain": [
       "               date                  type registration operator fatalities  \\\n",
       "count         23967                 23967        22419    23963      20029   \n",
       "unique        15079                  3201        21962     6017        369   \n",
       "top     10-MAY-1940  Douglas C-47A (DC-3)       LZ-...    USAAF          0   \n",
       "freq            171                  1916           13     2604      10713   \n",
       "\n",
       "       location country    cat   year  \n",
       "count     23019   23967  23967  23967  \n",
       "unique    14608     232     11    106  \n",
       "top     unknown     USA     A1   1944  \n",
       "freq        272    4377  17424   1505  "
      ]
     },
     "execution_count": 8,
     "metadata": {},
     "output_type": "execute_result"
    }
   ],
   "source": [
    "acc_df.describe()"
   ]
  },
  {
   "cell_type": "markdown",
   "id": "92796af7",
   "metadata": {},
   "source": [
    "Here we can see the descriptive statistics of the non numerical data. We can infer:\n",
    "\n",
    "    - A1 is the most common accident.\n",
    "    - 10th May 1940 had alot of accidents\n",
    "    - Most accidents occured in the year 1944\n",
    "    - Most accidents had no fatalities.\n",
    "    - Most accidents occured in the US.\n",
    "    - The countries might have spelling errors since there are 232 unique countries compared to the 195-200 countries in the world."
   ]
  },
  {
   "cell_type": "code",
   "execution_count": 9,
   "id": "0c7ec5f6",
   "metadata": {},
   "outputs": [],
   "source": [
    "# Converting the fatalities  column to int datatype to get correct descriptive statistics\n",
    "acc_df[\"fatalities\"] = pd.to_numeric(acc_df[\"fatalities\"], errors=\"coerce\") \n",
    "#Converts string values to int and if the srting is in a non-int format it isrplaced with NaN"
   ]
  },
  {
   "cell_type": "code",
   "execution_count": 10,
   "id": "2b72b6b3",
   "metadata": {},
   "outputs": [
    {
     "data": {
      "text/plain": [
       "count    19676.000000\n",
       "mean         6.135851\n",
       "std         18.686195\n",
       "min          0.000000\n",
       "25%          0.000000\n",
       "50%          0.000000\n",
       "75%          5.000000\n",
       "max        520.000000\n",
       "Name: fatalities, dtype: float64"
      ]
     },
     "execution_count": 10,
     "metadata": {},
     "output_type": "execute_result"
    }
   ],
   "source": [
    "acc_df[\"fatalities\"].describe()"
   ]
  },
  {
   "cell_type": "markdown",
   "id": "78c92068",
   "metadata": {},
   "source": [
    "We can see most accidents were non fatal. Also mean is not a good measure of central tendency here since the data is left-skewed."
   ]
  },
  {
   "cell_type": "markdown",
   "id": "be315481",
   "metadata": {},
   "source": [
    "<br>"
   ]
  },
  {
   "cell_type": "markdown",
   "id": "72eefa69",
   "metadata": {},
   "source": [
    "## **3. Data Cleaning**<hr>"
   ]
  },
  {
   "cell_type": "markdown",
   "id": "8eaa37e6",
   "metadata": {},
   "source": [
    "In this section we clean the data i.e try to remove the percieved errors in data"
   ]
  },
  {
   "cell_type": "markdown",
   "id": "2a9fd945",
   "metadata": {},
   "source": [
    "First let's handle missing values"
   ]
  },
  {
   "cell_type": "code",
   "execution_count": 11,
   "id": "fe170754",
   "metadata": {},
   "outputs": [
    {
     "name": "stdout",
     "output_type": "stream",
     "text": [
      "<class 'pandas.core.frame.DataFrame'>\n",
      "RangeIndex: 23967 entries, 0 to 23966\n",
      "Data columns (total 9 columns):\n",
      " #   Column        Non-Null Count  Dtype  \n",
      "---  ------        --------------  -----  \n",
      " 0   date          23967 non-null  object \n",
      " 1   type          23967 non-null  object \n",
      " 2   registration  22419 non-null  object \n",
      " 3   operator      23963 non-null  object \n",
      " 4   fatalities    19676 non-null  float64\n",
      " 5   location      23019 non-null  object \n",
      " 6   country       23967 non-null  object \n",
      " 7   cat           23967 non-null  object \n",
      " 8   year          23967 non-null  object \n",
      "dtypes: float64(1), object(8)\n",
      "memory usage: 1.6+ MB\n"
     ]
    }
   ],
   "source": [
    "# Calling .info on the dataframe again to see where the missing values lie\n",
    "acc_df.info()"
   ]
  },
  {
   "cell_type": "markdown",
   "id": "9b60a632",
   "metadata": {},
   "source": [
    "Registration won't be important for our endeavour so it can. We will need to handle the facilities data. We will also drop the type of aircrafts that are unknown. "
   ]
  },
  {
   "cell_type": "code",
   "execution_count": 12,
   "id": "00756c22",
   "metadata": {},
   "outputs": [],
   "source": [
    "#Lets take a look at the type first\n",
    "acc_df[\"type\"].value_counts().to_csv(\"./output/types.csv\")"
   ]
  },
  {
   "cell_type": "code",
   "execution_count": 13,
   "id": "65b79b6f",
   "metadata": {},
   "outputs": [
    {
     "data": {
      "text/html": [
       "<div>\n",
       "<style scoped>\n",
       "    .dataframe tbody tr th:only-of-type {\n",
       "        vertical-align: middle;\n",
       "    }\n",
       "\n",
       "    .dataframe tbody tr th {\n",
       "        vertical-align: top;\n",
       "    }\n",
       "\n",
       "    .dataframe thead th {\n",
       "        text-align: right;\n",
       "    }\n",
       "</style>\n",
       "<table border=\"1\" class=\"dataframe\">\n",
       "  <thead>\n",
       "    <tr style=\"text-align: right;\">\n",
       "      <th></th>\n",
       "      <th>date</th>\n",
       "      <th>type</th>\n",
       "      <th>registration</th>\n",
       "      <th>operator</th>\n",
       "      <th>fatalities</th>\n",
       "      <th>location</th>\n",
       "      <th>country</th>\n",
       "      <th>cat</th>\n",
       "      <th>year</th>\n",
       "    </tr>\n",
       "  </thead>\n",
       "  <tbody>\n",
       "    <tr>\n",
       "      <th>5446</th>\n",
       "      <td>20-SEP-1946</td>\n",
       "      <td>unknown</td>\n",
       "      <td>NaN</td>\n",
       "      <td>CNAC</td>\n",
       "      <td>31.0</td>\n",
       "      <td>near Xichang, Sichuan...</td>\n",
       "      <td>China</td>\n",
       "      <td>A1</td>\n",
       "      <td>1946</td>\n",
       "    </tr>\n",
       "    <tr>\n",
       "      <th>5655</th>\n",
       "      <td>25-APR-1947</td>\n",
       "      <td>unknown</td>\n",
       "      <td>..-141</td>\n",
       "      <td>CNAC</td>\n",
       "      <td>NaN</td>\n",
       "      <td>Shanghei-Lungwha...</td>\n",
       "      <td>China</td>\n",
       "      <td>A1</td>\n",
       "      <td>1947</td>\n",
       "    </tr>\n",
       "    <tr>\n",
       "      <th>6178</th>\n",
       "      <td>30-JAN-1949</td>\n",
       "      <td>unknown</td>\n",
       "      <td>NaN</td>\n",
       "      <td>CNAC</td>\n",
       "      <td>0.0</td>\n",
       "      <td>Tainan</td>\n",
       "      <td>Taiwan</td>\n",
       "      <td>H2</td>\n",
       "      <td>1949</td>\n",
       "    </tr>\n",
       "    <tr>\n",
       "      <th>6537</th>\n",
       "      <td>11-AUG-1950</td>\n",
       "      <td>unknown</td>\n",
       "      <td>NaN</td>\n",
       "      <td>CSA</td>\n",
       "      <td>0.0</td>\n",
       "      <td>near Aichach</td>\n",
       "      <td>Germany</td>\n",
       "      <td>H2</td>\n",
       "      <td>1950</td>\n",
       "    </tr>\n",
       "    <tr>\n",
       "      <th>7036</th>\n",
       "      <td>18-APR-1952</td>\n",
       "      <td>unknown</td>\n",
       "      <td>NaN</td>\n",
       "      <td>JAT</td>\n",
       "      <td>0.0</td>\n",
       "      <td>Graz-Thalerhof A...</td>\n",
       "      <td>Austria</td>\n",
       "      <td>H2</td>\n",
       "      <td>1952</td>\n",
       "    </tr>\n",
       "    <tr>\n",
       "      <th>8670</th>\n",
       "      <td>08-JUL-1959</td>\n",
       "      <td>unknown</td>\n",
       "      <td>NaN</td>\n",
       "      <td>JAT</td>\n",
       "      <td>0.0</td>\n",
       "      <td>Bari-Palese Airp...</td>\n",
       "      <td>Italy</td>\n",
       "      <td>H2</td>\n",
       "      <td>1959</td>\n",
       "    </tr>\n",
       "    <tr>\n",
       "      <th>8904</th>\n",
       "      <td>21-AUG-1960</td>\n",
       "      <td>unknown</td>\n",
       "      <td>NaN</td>\n",
       "      <td>Aeroflot</td>\n",
       "      <td>1.0</td>\n",
       "      <td>NaN</td>\n",
       "      <td>Russia</td>\n",
       "      <td>H2</td>\n",
       "      <td>1960</td>\n",
       "    </tr>\n",
       "    <tr>\n",
       "      <th>8972</th>\n",
       "      <td>08-DEC-1960</td>\n",
       "      <td>unknown</td>\n",
       "      <td>NaN</td>\n",
       "      <td>Cubana</td>\n",
       "      <td>1.0</td>\n",
       "      <td>near Cienfuegos</td>\n",
       "      <td>Cuba</td>\n",
       "      <td>H2</td>\n",
       "      <td>1960</td>\n",
       "    </tr>\n",
       "    <tr>\n",
       "      <th>10170</th>\n",
       "      <td>31-DEC-1965</td>\n",
       "      <td>unknown</td>\n",
       "      <td>NaN</td>\n",
       "      <td>Aeroflot</td>\n",
       "      <td>1.0</td>\n",
       "      <td>NaN</td>\n",
       "      <td>Unknown country</td>\n",
       "      <td>H2</td>\n",
       "      <td>1965</td>\n",
       "    </tr>\n",
       "    <tr>\n",
       "      <th>10721</th>\n",
       "      <td>19-FEB-1968</td>\n",
       "      <td>unknown</td>\n",
       "      <td>NaN</td>\n",
       "      <td>Aeroflot</td>\n",
       "      <td>2.0</td>\n",
       "      <td>Baghdad</td>\n",
       "      <td>Iraq</td>\n",
       "      <td>A1</td>\n",
       "      <td>1968</td>\n",
       "    </tr>\n",
       "    <tr>\n",
       "      <th>11210</th>\n",
       "      <td>29-JUL-1969</td>\n",
       "      <td>unknown</td>\n",
       "      <td>NaN</td>\n",
       "      <td>Unknown</td>\n",
       "      <td>0.0</td>\n",
       "      <td>Managua Airport ...</td>\n",
       "      <td>Nicaragua</td>\n",
       "      <td>H2</td>\n",
       "      <td>1969</td>\n",
       "    </tr>\n",
       "    <tr>\n",
       "      <th>11537</th>\n",
       "      <td>09-JUN-1970</td>\n",
       "      <td>unknown</td>\n",
       "      <td>NaN</td>\n",
       "      <td>LOT</td>\n",
       "      <td>0.0</td>\n",
       "      <td>Warszawa-Okecie ...</td>\n",
       "      <td>Poland</td>\n",
       "      <td>H2</td>\n",
       "      <td>1970</td>\n",
       "    </tr>\n",
       "    <tr>\n",
       "      <th>11636</th>\n",
       "      <td>10-SEP-1970</td>\n",
       "      <td>unknown</td>\n",
       "      <td>NaN</td>\n",
       "      <td>Unknown</td>\n",
       "      <td>0.0</td>\n",
       "      <td>NaN</td>\n",
       "      <td>Unknown country</td>\n",
       "      <td>H2</td>\n",
       "      <td>1970</td>\n",
       "    </tr>\n",
       "    <tr>\n",
       "      <th>11638</th>\n",
       "      <td>12-SEP-1970</td>\n",
       "      <td>unknown</td>\n",
       "      <td>NaN</td>\n",
       "      <td>Unknown</td>\n",
       "      <td>0.0</td>\n",
       "      <td>NaN</td>\n",
       "      <td>Unknown country</td>\n",
       "      <td>H2</td>\n",
       "      <td>1970</td>\n",
       "    </tr>\n",
       "    <tr>\n",
       "      <th>11711</th>\n",
       "      <td>10-DEC-1970</td>\n",
       "      <td>unknown</td>\n",
       "      <td>NaN</td>\n",
       "      <td>CSA</td>\n",
       "      <td>0.0</td>\n",
       "      <td>Brno</td>\n",
       "      <td>Czech Rep.</td>\n",
       "      <td>H2</td>\n",
       "      <td>1970</td>\n",
       "    </tr>\n",
       "    <tr>\n",
       "      <th>11866</th>\n",
       "      <td>11-JUL-1971</td>\n",
       "      <td>unknown</td>\n",
       "      <td>NaN</td>\n",
       "      <td>Cubana</td>\n",
       "      <td>1.0</td>\n",
       "      <td>Havana-JosÃ© Mar...</td>\n",
       "      <td>Cuba</td>\n",
       "      <td>H2</td>\n",
       "      <td>1971</td>\n",
       "    </tr>\n",
       "    <tr>\n",
       "      <th>12199</th>\n",
       "      <td>12-JUL-1972</td>\n",
       "      <td>unknown</td>\n",
       "      <td>NaN</td>\n",
       "      <td>UTA</td>\n",
       "      <td>0.0</td>\n",
       "      <td>Abidjan-Felix Ho...</td>\n",
       "      <td>Unknown country</td>\n",
       "      <td>H2</td>\n",
       "      <td>1972</td>\n",
       "    </tr>\n",
       "    <tr>\n",
       "      <th>13900</th>\n",
       "      <td>14-NOV-1978</td>\n",
       "      <td>unknown</td>\n",
       "      <td>NaN</td>\n",
       "      <td>Aeroflot</td>\n",
       "      <td>1.0</td>\n",
       "      <td>NaN</td>\n",
       "      <td>Unknown country</td>\n",
       "      <td>H2</td>\n",
       "      <td>1978</td>\n",
       "    </tr>\n",
       "    <tr>\n",
       "      <th>14788</th>\n",
       "      <td>09-JUN-1982</td>\n",
       "      <td>unknown</td>\n",
       "      <td>NaN</td>\n",
       "      <td>LOT</td>\n",
       "      <td>0.0</td>\n",
       "      <td>Warszawa-Okecie ...</td>\n",
       "      <td>Poland</td>\n",
       "      <td>H2</td>\n",
       "      <td>1982</td>\n",
       "    </tr>\n",
       "    <tr>\n",
       "      <th>15224</th>\n",
       "      <td>25-JUN-1984</td>\n",
       "      <td>unknown</td>\n",
       "      <td>NaN</td>\n",
       "      <td>CAAC</td>\n",
       "      <td>0.0</td>\n",
       "      <td>Fuzhou Yixu Airp...</td>\n",
       "      <td>China</td>\n",
       "      <td>H2</td>\n",
       "      <td>1984</td>\n",
       "    </tr>\n",
       "    <tr>\n",
       "      <th>15851</th>\n",
       "      <td>05-MAY-1987</td>\n",
       "      <td>unknown</td>\n",
       "      <td>NaN</td>\n",
       "      <td>Iran Air</td>\n",
       "      <td>0.0</td>\n",
       "      <td>Tehran-Mehrabad ...</td>\n",
       "      <td>Iran</td>\n",
       "      <td>H2</td>\n",
       "      <td>1987</td>\n",
       "    </tr>\n",
       "    <tr>\n",
       "      <th>16006</th>\n",
       "      <td>25-DEC-1987</td>\n",
       "      <td>unknown</td>\n",
       "      <td>NaN</td>\n",
       "      <td>Iran Air</td>\n",
       "      <td>0.0</td>\n",
       "      <td>Mashhad Airport ...</td>\n",
       "      <td>Iran</td>\n",
       "      <td>H2</td>\n",
       "      <td>1987</td>\n",
       "    </tr>\n",
       "    <tr>\n",
       "      <th>16016</th>\n",
       "      <td>05-JAN-1988</td>\n",
       "      <td>unknown</td>\n",
       "      <td>NaN</td>\n",
       "      <td>Iran Air</td>\n",
       "      <td>0.0</td>\n",
       "      <td>Tehran-Mehrabad ...</td>\n",
       "      <td>Iran</td>\n",
       "      <td>H2</td>\n",
       "      <td>1988</td>\n",
       "    </tr>\n",
       "    <tr>\n",
       "      <th>16099</th>\n",
       "      <td>16-JUN-1988</td>\n",
       "      <td>unknown</td>\n",
       "      <td>NaN</td>\n",
       "      <td>Afghan AF</td>\n",
       "      <td>35.0</td>\n",
       "      <td>near Khost</td>\n",
       "      <td>Afghanistan</td>\n",
       "      <td>C1</td>\n",
       "      <td>1988</td>\n",
       "    </tr>\n",
       "    <tr>\n",
       "      <th>16669</th>\n",
       "      <td>02-SEP-1990</td>\n",
       "      <td>unknown</td>\n",
       "      <td>NaN</td>\n",
       "      <td>Aeroflot</td>\n",
       "      <td>0.0</td>\n",
       "      <td>Frunze Airport</td>\n",
       "      <td>Russia</td>\n",
       "      <td>H2</td>\n",
       "      <td>1990</td>\n",
       "    </tr>\n",
       "    <tr>\n",
       "      <th>16688</th>\n",
       "      <td>25-SEP-1990</td>\n",
       "      <td>unknown</td>\n",
       "      <td>NaN</td>\n",
       "      <td>Aeroflot</td>\n",
       "      <td>0.0</td>\n",
       "      <td>Arkhangelsk-Tala...</td>\n",
       "      <td>Russia</td>\n",
       "      <td>H2</td>\n",
       "      <td>1990</td>\n",
       "    </tr>\n",
       "    <tr>\n",
       "      <th>16738</th>\n",
       "      <td>06-DEC-1990</td>\n",
       "      <td>unknown</td>\n",
       "      <td>NaN</td>\n",
       "      <td>CAAC</td>\n",
       "      <td>0.0</td>\n",
       "      <td>Guangzhou-Baiyun...</td>\n",
       "      <td>China</td>\n",
       "      <td>H2</td>\n",
       "      <td>1990</td>\n",
       "    </tr>\n",
       "    <tr>\n",
       "      <th>16980</th>\n",
       "      <td>25-NOV-1991</td>\n",
       "      <td>unknown</td>\n",
       "      <td>NaN</td>\n",
       "      <td>Unknown</td>\n",
       "      <td>0.0</td>\n",
       "      <td>within Papua New Guinea</td>\n",
       "      <td>P.N. Guinea</td>\n",
       "      <td>H2</td>\n",
       "      <td>1991</td>\n",
       "    </tr>\n",
       "    <tr>\n",
       "      <th>17287</th>\n",
       "      <td>22-JAN-1993</td>\n",
       "      <td>unknown</td>\n",
       "      <td>NaN</td>\n",
       "      <td>Indian Airlines</td>\n",
       "      <td>0.0</td>\n",
       "      <td>Lucknow (LKO)</td>\n",
       "      <td>India</td>\n",
       "      <td>H2</td>\n",
       "      <td>1993</td>\n",
       "    </tr>\n",
       "    <tr>\n",
       "      <th>17479</th>\n",
       "      <td>22-OCT-1993</td>\n",
       "      <td>unknown</td>\n",
       "      <td>NaN</td>\n",
       "      <td>EgyptAir</td>\n",
       "      <td>0.0</td>\n",
       "      <td>Sana'a Internati...</td>\n",
       "      <td>Yemen</td>\n",
       "      <td>H2</td>\n",
       "      <td>1993</td>\n",
       "    </tr>\n",
       "    <tr>\n",
       "      <th>17662</th>\n",
       "      <td>26-MAY-1994</td>\n",
       "      <td>unknown</td>\n",
       "      <td>NaN</td>\n",
       "      <td>Garuda</td>\n",
       "      <td>0.0</td>\n",
       "      <td>unknown airport</td>\n",
       "      <td>Vietnam</td>\n",
       "      <td>H2</td>\n",
       "      <td>1994</td>\n",
       "    </tr>\n",
       "    <tr>\n",
       "      <th>18137</th>\n",
       "      <td>24-MAR-1996</td>\n",
       "      <td>unknown</td>\n",
       "      <td>NaN</td>\n",
       "      <td>Sudan Airways</td>\n",
       "      <td>0.0</td>\n",
       "      <td>Asmara Internati...</td>\n",
       "      <td>Eritrea</td>\n",
       "      <td>H2</td>\n",
       "      <td>1996</td>\n",
       "    </tr>\n",
       "    <tr>\n",
       "      <th>18367</th>\n",
       "      <td>10-FEB-1997</td>\n",
       "      <td>unknown</td>\n",
       "      <td>NaN</td>\n",
       "      <td>China Northwest</td>\n",
       "      <td>0.0</td>\n",
       "      <td>Guangzhou Airpor...</td>\n",
       "      <td>China</td>\n",
       "      <td>H2</td>\n",
       "      <td>1997</td>\n",
       "    </tr>\n",
       "    <tr>\n",
       "      <th>18993</th>\n",
       "      <td>26-OCT-1999</td>\n",
       "      <td>unknown</td>\n",
       "      <td>NaN</td>\n",
       "      <td>Iran Air</td>\n",
       "      <td>0.0</td>\n",
       "      <td>Urmia (Orumiyeh)...</td>\n",
       "      <td>Iran</td>\n",
       "      <td>H2</td>\n",
       "      <td>1999</td>\n",
       "    </tr>\n",
       "  </tbody>\n",
       "</table>\n",
       "</div>"
      ],
      "text/plain": [
       "              date     type registration         operator  fatalities  \\\n",
       "5446   20-SEP-1946  unknown          NaN             CNAC        31.0   \n",
       "5655   25-APR-1947  unknown       ..-141             CNAC         NaN   \n",
       "6178   30-JAN-1949  unknown          NaN             CNAC         0.0   \n",
       "6537   11-AUG-1950  unknown          NaN              CSA         0.0   \n",
       "7036   18-APR-1952  unknown          NaN              JAT         0.0   \n",
       "8670   08-JUL-1959  unknown          NaN              JAT         0.0   \n",
       "8904   21-AUG-1960  unknown          NaN         Aeroflot         1.0   \n",
       "8972   08-DEC-1960  unknown          NaN           Cubana         1.0   \n",
       "10170  31-DEC-1965  unknown          NaN         Aeroflot         1.0   \n",
       "10721  19-FEB-1968  unknown          NaN         Aeroflot         2.0   \n",
       "11210  29-JUL-1969  unknown          NaN          Unknown         0.0   \n",
       "11537  09-JUN-1970  unknown          NaN              LOT         0.0   \n",
       "11636  10-SEP-1970  unknown          NaN          Unknown         0.0   \n",
       "11638  12-SEP-1970  unknown          NaN          Unknown         0.0   \n",
       "11711  10-DEC-1970  unknown          NaN              CSA         0.0   \n",
       "11866  11-JUL-1971  unknown          NaN           Cubana         1.0   \n",
       "12199  12-JUL-1972  unknown          NaN              UTA         0.0   \n",
       "13900  14-NOV-1978  unknown          NaN         Aeroflot         1.0   \n",
       "14788  09-JUN-1982  unknown          NaN              LOT         0.0   \n",
       "15224  25-JUN-1984  unknown          NaN             CAAC         0.0   \n",
       "15851  05-MAY-1987  unknown          NaN         Iran Air         0.0   \n",
       "16006  25-DEC-1987  unknown          NaN         Iran Air         0.0   \n",
       "16016  05-JAN-1988  unknown          NaN         Iran Air         0.0   \n",
       "16099  16-JUN-1988  unknown          NaN        Afghan AF        35.0   \n",
       "16669  02-SEP-1990  unknown          NaN         Aeroflot         0.0   \n",
       "16688  25-SEP-1990  unknown          NaN         Aeroflot         0.0   \n",
       "16738  06-DEC-1990  unknown          NaN             CAAC         0.0   \n",
       "16980  25-NOV-1991  unknown          NaN          Unknown         0.0   \n",
       "17287  22-JAN-1993  unknown          NaN  Indian Airlines         0.0   \n",
       "17479  22-OCT-1993  unknown          NaN         EgyptAir         0.0   \n",
       "17662  26-MAY-1994  unknown          NaN           Garuda         0.0   \n",
       "18137  24-MAR-1996  unknown          NaN    Sudan Airways         0.0   \n",
       "18367  10-FEB-1997  unknown          NaN  China Northwest         0.0   \n",
       "18993  26-OCT-1999  unknown          NaN         Iran Air         0.0   \n",
       "\n",
       "                       location          country cat  year  \n",
       "5446   near Xichang, Sichuan...            China  A1  1946  \n",
       "5655        Shanghei-Lungwha...            China  A1  1947  \n",
       "6178                     Tainan           Taiwan  H2  1949  \n",
       "6537               near Aichach          Germany  H2  1950  \n",
       "7036        Graz-Thalerhof A...          Austria  H2  1952  \n",
       "8670        Bari-Palese Airp...            Italy  H2  1959  \n",
       "8904                        NaN           Russia  H2  1960  \n",
       "8972            near Cienfuegos             Cuba  H2  1960  \n",
       "10170                       NaN  Unknown country  H2  1965  \n",
       "10721                   Baghdad             Iraq  A1  1968  \n",
       "11210       Managua Airport ...        Nicaragua  H2  1969  \n",
       "11537       Warszawa-Okecie ...           Poland  H2  1970  \n",
       "11636                       NaN  Unknown country  H2  1970  \n",
       "11638                       NaN  Unknown country  H2  1970  \n",
       "11711                      Brno       Czech Rep.  H2  1970  \n",
       "11866       Havana-JosÃ© Mar...             Cuba  H2  1971  \n",
       "12199       Abidjan-Felix Ho...  Unknown country  H2  1972  \n",
       "13900                       NaN  Unknown country  H2  1978  \n",
       "14788       Warszawa-Okecie ...           Poland  H2  1982  \n",
       "15224       Fuzhou Yixu Airp...            China  H2  1984  \n",
       "15851       Tehran-Mehrabad ...             Iran  H2  1987  \n",
       "16006       Mashhad Airport ...             Iran  H2  1987  \n",
       "16016       Tehran-Mehrabad ...             Iran  H2  1988  \n",
       "16099                near Khost      Afghanistan  C1  1988  \n",
       "16669            Frunze Airport           Russia  H2  1990  \n",
       "16688       Arkhangelsk-Tala...           Russia  H2  1990  \n",
       "16738       Guangzhou-Baiyun...            China  H2  1990  \n",
       "16980   within Papua New Guinea      P.N. Guinea  H2  1991  \n",
       "17287             Lucknow (LKO)            India  H2  1993  \n",
       "17479       Sana'a Internati...            Yemen  H2  1993  \n",
       "17662           unknown airport          Vietnam  H2  1994  \n",
       "18137       Asmara Internati...          Eritrea  H2  1996  \n",
       "18367       Guangzhou Airpor...            China  H2  1997  \n",
       "18993       Urmia (Orumiyeh)...             Iran  H2  1999  "
      ]
     },
     "execution_count": 13,
     "metadata": {},
     "output_type": "execute_result"
    }
   ],
   "source": [
    "acc_df[acc_df[\"type\"] == \"unknown\"]"
   ]
  },
  {
   "cell_type": "markdown",
   "id": "b0ee556b",
   "metadata": {},
   "source": [
    "There are only 28 unknown types, so we will drop them since te type of aircraft is very important to us"
   ]
  },
  {
   "cell_type": "code",
   "execution_count": 14,
   "id": "2ad534b5",
   "metadata": {},
   "outputs": [],
   "source": [
    "\n",
    "acc_df = acc_df[acc_df[\"type\"] != \"unknown\"]"
   ]
  },
  {
   "cell_type": "code",
   "execution_count": 15,
   "id": "1889f088",
   "metadata": {},
   "outputs": [
    {
     "data": {
      "text/html": [
       "<div>\n",
       "<style scoped>\n",
       "    .dataframe tbody tr th:only-of-type {\n",
       "        vertical-align: middle;\n",
       "    }\n",
       "\n",
       "    .dataframe tbody tr th {\n",
       "        vertical-align: top;\n",
       "    }\n",
       "\n",
       "    .dataframe thead th {\n",
       "        text-align: right;\n",
       "    }\n",
       "</style>\n",
       "<table border=\"1\" class=\"dataframe\">\n",
       "  <thead>\n",
       "    <tr style=\"text-align: right;\">\n",
       "      <th></th>\n",
       "      <th>date</th>\n",
       "      <th>type</th>\n",
       "      <th>registration</th>\n",
       "      <th>operator</th>\n",
       "      <th>fatalities</th>\n",
       "      <th>location</th>\n",
       "      <th>country</th>\n",
       "      <th>cat</th>\n",
       "      <th>year</th>\n",
       "    </tr>\n",
       "  </thead>\n",
       "  <tbody>\n",
       "  </tbody>\n",
       "</table>\n",
       "</div>"
      ],
      "text/plain": [
       "Empty DataFrame\n",
       "Columns: [date, type, registration, operator, fatalities, location, country, cat, year]\n",
       "Index: []"
      ]
     },
     "execution_count": 15,
     "metadata": {},
     "output_type": "execute_result"
    }
   ],
   "source": [
    "acc_df[acc_df[\"type\"] == \"unknown\"]"
   ]
  },
  {
   "cell_type": "markdown",
   "id": "85f3407d",
   "metadata": {},
   "source": [
    "Now let's deal with the country and location columns"
   ]
  },
  {
   "cell_type": "code",
   "execution_count": 16,
   "id": "78dcc212",
   "metadata": {},
   "outputs": [
    {
     "data": {
      "text/plain": [
       "96.04456127174865"
      ]
     },
     "execution_count": 16,
     "metadata": {},
     "output_type": "execute_result"
    }
   ],
   "source": [
    "#Lets calculate the percentage of rows missing location data\n",
    "(23019/23967) * 100\n",
    "# We can see we have 4% missing values"
   ]
  },
  {
   "cell_type": "code",
   "execution_count": 17,
   "id": "8cddea38",
   "metadata": {},
   "outputs": [
    {
     "data": {
      "text/html": [
       "<div>\n",
       "<style scoped>\n",
       "    .dataframe tbody tr th:only-of-type {\n",
       "        vertical-align: middle;\n",
       "    }\n",
       "\n",
       "    .dataframe tbody tr th {\n",
       "        vertical-align: top;\n",
       "    }\n",
       "\n",
       "    .dataframe thead th {\n",
       "        text-align: right;\n",
       "    }\n",
       "</style>\n",
       "<table border=\"1\" class=\"dataframe\">\n",
       "  <thead>\n",
       "    <tr style=\"text-align: right;\">\n",
       "      <th></th>\n",
       "      <th>date</th>\n",
       "      <th>type</th>\n",
       "      <th>registration</th>\n",
       "      <th>operator</th>\n",
       "      <th>fatalities</th>\n",
       "      <th>location</th>\n",
       "      <th>country</th>\n",
       "      <th>cat</th>\n",
       "      <th>year</th>\n",
       "    </tr>\n",
       "  </thead>\n",
       "  <tbody>\n",
       "    <tr>\n",
       "      <th>0</th>\n",
       "      <td>date unk.</td>\n",
       "      <td>Antonov An-12B</td>\n",
       "      <td>T-1206</td>\n",
       "      <td>Indonesian AF</td>\n",
       "      <td>NaN</td>\n",
       "      <td>NaN</td>\n",
       "      <td>Unknown country</td>\n",
       "      <td>U1</td>\n",
       "      <td>unknown</td>\n",
       "    </tr>\n",
       "    <tr>\n",
       "      <th>1</th>\n",
       "      <td>date unk.</td>\n",
       "      <td>Antonov An-12B</td>\n",
       "      <td>T-1204</td>\n",
       "      <td>Indonesian AF</td>\n",
       "      <td>NaN</td>\n",
       "      <td>NaN</td>\n",
       "      <td>Unknown country</td>\n",
       "      <td>U1</td>\n",
       "      <td>unknown</td>\n",
       "    </tr>\n",
       "    <tr>\n",
       "      <th>2</th>\n",
       "      <td>date unk.</td>\n",
       "      <td>Antonov An-12B</td>\n",
       "      <td>T-1201</td>\n",
       "      <td>Indonesian AF</td>\n",
       "      <td>NaN</td>\n",
       "      <td>NaN</td>\n",
       "      <td>Unknown country</td>\n",
       "      <td>U1</td>\n",
       "      <td>unknown</td>\n",
       "    </tr>\n",
       "    <tr>\n",
       "      <th>5</th>\n",
       "      <td>date unk.</td>\n",
       "      <td>Antonov An-12BP</td>\n",
       "      <td>CCCP-12172</td>\n",
       "      <td>Soviet AF</td>\n",
       "      <td>NaN</td>\n",
       "      <td>NaN</td>\n",
       "      <td>Russia</td>\n",
       "      <td>U1</td>\n",
       "      <td>unknown</td>\n",
       "    </tr>\n",
       "    <tr>\n",
       "      <th>8</th>\n",
       "      <td>date unk.</td>\n",
       "      <td>Antonov An-24B</td>\n",
       "      <td>RA-47794</td>\n",
       "      <td>Russian AF</td>\n",
       "      <td>0.0</td>\n",
       "      <td>NaN</td>\n",
       "      <td>Russia</td>\n",
       "      <td>A1</td>\n",
       "      <td>unknown</td>\n",
       "    </tr>\n",
       "    <tr>\n",
       "      <th>...</th>\n",
       "      <td>...</td>\n",
       "      <td>...</td>\n",
       "      <td>...</td>\n",
       "      <td>...</td>\n",
       "      <td>...</td>\n",
       "      <td>...</td>\n",
       "      <td>...</td>\n",
       "      <td>...</td>\n",
       "      <td>...</td>\n",
       "    </tr>\n",
       "    <tr>\n",
       "      <th>19791</th>\n",
       "      <td>15-APR-2003</td>\n",
       "      <td>Vickers 836 Viscount</td>\n",
       "      <td>9Q-CGL</td>\n",
       "      <td>Trans Intair</td>\n",
       "      <td>0.0</td>\n",
       "      <td>NaN</td>\n",
       "      <td>D.R. Congo</td>\n",
       "      <td>A1</td>\n",
       "      <td>2003</td>\n",
       "    </tr>\n",
       "    <tr>\n",
       "      <th>19806</th>\n",
       "      <td>10-MAY-2003</td>\n",
       "      <td>Antonov An-2R</td>\n",
       "      <td>UK-68038</td>\n",
       "      <td>Uzbekistan Airways</td>\n",
       "      <td>NaN</td>\n",
       "      <td>NaN</td>\n",
       "      <td>Unknown country</td>\n",
       "      <td>A2</td>\n",
       "      <td>2003</td>\n",
       "    </tr>\n",
       "    <tr>\n",
       "      <th>20002</th>\n",
       "      <td>02-MAY-2004</td>\n",
       "      <td>Yakovlev Yak-40</td>\n",
       "      <td>YV-1070CP</td>\n",
       "      <td>CIACA Airlines</td>\n",
       "      <td>NaN</td>\n",
       "      <td>NaN</td>\n",
       "      <td>Guatemala</td>\n",
       "      <td>A1</td>\n",
       "      <td>2004</td>\n",
       "    </tr>\n",
       "    <tr>\n",
       "      <th>20077</th>\n",
       "      <td>11-SEP-2004</td>\n",
       "      <td>Lockheed C-130H Hercules</td>\n",
       "      <td>NaN</td>\n",
       "      <td>USAF</td>\n",
       "      <td>0.0</td>\n",
       "      <td>NaN</td>\n",
       "      <td>Iraq</td>\n",
       "      <td>C2</td>\n",
       "      <td>2004</td>\n",
       "    </tr>\n",
       "    <tr>\n",
       "      <th>20093</th>\n",
       "      <td>09-OCT-2004</td>\n",
       "      <td>Let L-410UVP</td>\n",
       "      <td>9XR-KL</td>\n",
       "      <td>El Amiron Plus</td>\n",
       "      <td>0.0</td>\n",
       "      <td>NaN</td>\n",
       "      <td>D.R. Congo</td>\n",
       "      <td>A1</td>\n",
       "      <td>2004</td>\n",
       "    </tr>\n",
       "  </tbody>\n",
       "</table>\n",
       "<p>943 rows × 9 columns</p>\n",
       "</div>"
      ],
      "text/plain": [
       "              date                      type registration            operator  \\\n",
       "0        date unk.            Antonov An-12B       T-1206       Indonesian AF   \n",
       "1        date unk.            Antonov An-12B       T-1204       Indonesian AF   \n",
       "2        date unk.            Antonov An-12B       T-1201       Indonesian AF   \n",
       "5        date unk.           Antonov An-12BP   CCCP-12172           Soviet AF   \n",
       "8        date unk.            Antonov An-24B     RA-47794          Russian AF   \n",
       "...            ...                       ...          ...                 ...   \n",
       "19791  15-APR-2003      Vickers 836 Viscount       9Q-CGL        Trans Intair   \n",
       "19806  10-MAY-2003             Antonov An-2R     UK-68038  Uzbekistan Airways   \n",
       "20002  02-MAY-2004           Yakovlev Yak-40    YV-1070CP      CIACA Airlines   \n",
       "20077  11-SEP-2004  Lockheed C-130H Hercules          NaN                USAF   \n",
       "20093  09-OCT-2004              Let L-410UVP       9XR-KL      El Amiron Plus   \n",
       "\n",
       "       fatalities location          country cat     year  \n",
       "0             NaN      NaN  Unknown country  U1  unknown  \n",
       "1             NaN      NaN  Unknown country  U1  unknown  \n",
       "2             NaN      NaN  Unknown country  U1  unknown  \n",
       "5             NaN      NaN           Russia  U1  unknown  \n",
       "8             0.0      NaN           Russia  A1  unknown  \n",
       "...           ...      ...              ...  ..      ...  \n",
       "19791         0.0      NaN       D.R. Congo  A1     2003  \n",
       "19806         NaN      NaN  Unknown country  A2     2003  \n",
       "20002         NaN      NaN        Guatemala  A1     2004  \n",
       "20077         0.0      NaN             Iraq  C2     2004  \n",
       "20093         0.0      NaN       D.R. Congo  A1     2004  \n",
       "\n",
       "[943 rows x 9 columns]"
      ]
     },
     "execution_count": 17,
     "metadata": {},
     "output_type": "execute_result"
    }
   ],
   "source": [
    "acc_df[acc_df[\"location\"].isnull()]"
   ]
  },
  {
   "cell_type": "code",
   "execution_count": 18,
   "id": "7e44a074",
   "metadata": {},
   "outputs": [],
   "source": [
    "#lets drop rows where  the location is NaN\n",
    "acc_df = acc_df.dropna(subset=[\"location\"])"
   ]
  },
  {
   "cell_type": "code",
   "execution_count": 19,
   "id": "77d92a4d",
   "metadata": {},
   "outputs": [
    {
     "data": {
      "text/html": [
       "<div>\n",
       "<style scoped>\n",
       "    .dataframe tbody tr th:only-of-type {\n",
       "        vertical-align: middle;\n",
       "    }\n",
       "\n",
       "    .dataframe tbody tr th {\n",
       "        vertical-align: top;\n",
       "    }\n",
       "\n",
       "    .dataframe thead th {\n",
       "        text-align: right;\n",
       "    }\n",
       "</style>\n",
       "<table border=\"1\" class=\"dataframe\">\n",
       "  <thead>\n",
       "    <tr style=\"text-align: right;\">\n",
       "      <th></th>\n",
       "      <th>date</th>\n",
       "      <th>type</th>\n",
       "      <th>registration</th>\n",
       "      <th>operator</th>\n",
       "      <th>fatalities</th>\n",
       "      <th>location</th>\n",
       "      <th>country</th>\n",
       "      <th>cat</th>\n",
       "      <th>year</th>\n",
       "    </tr>\n",
       "  </thead>\n",
       "  <tbody>\n",
       "  </tbody>\n",
       "</table>\n",
       "</div>"
      ],
      "text/plain": [
       "Empty DataFrame\n",
       "Columns: [date, type, registration, operator, fatalities, location, country, cat, year]\n",
       "Index: []"
      ]
     },
     "execution_count": 19,
     "metadata": {},
     "output_type": "execute_result"
    }
   ],
   "source": [
    "acc_df[acc_df[\"location\"].isnull()] # Confirm that they are dropped"
   ]
  },
  {
   "cell_type": "markdown",
   "id": "dc029f3a",
   "metadata": {},
   "source": [
    "Null locations have been dropped since they are only 4% of the dataset. Let's now deal with the country column. We can see that country  has no null values. It however has unknown values. If they are not that many we can remove them since filling them in with the mode In my view will skew the data"
   ]
  },
  {
   "cell_type": "code",
   "execution_count": 20,
   "id": "d4a7b076",
   "metadata": {},
   "outputs": [
    {
     "data": {
      "text/plain": [
       "USA               4371\n",
       "Russia            1366\n",
       "U.K.               834\n",
       "Canada             825\n",
       "India              666\n",
       "                  ... \n",
       "Guinea-Bissau        1\n",
       "Christmas Isl.       1\n",
       "Mauritius            1\n",
       "Tuvalu               1\n",
       "Monaco               1\n",
       "Name: country, Length: 232, dtype: int64"
      ]
     },
     "execution_count": 20,
     "metadata": {},
     "output_type": "execute_result"
    }
   ],
   "source": [
    "acc_df[\"country\"].value_counts() "
   ]
  },
  {
   "cell_type": "code",
   "execution_count": 21,
   "id": "373e9b0e",
   "metadata": {},
   "outputs": [],
   "source": [
    "#Save this to a temporary csv to have a look at the data\n",
    "acc_df[acc_df[\"country\"] == \"Unknown country\"].to_csv(\"./output/unknown_countries.csv\")"
   ]
  },
  {
   "cell_type": "markdown",
   "id": "aaa558f0",
   "metadata": {},
   "source": [
    "When we look at the temporary csv it has alot of missing data in the location, fatalities and countries columns. We can remove them safelt in my view."
   ]
  },
  {
   "cell_type": "code",
   "execution_count": 22,
   "id": "90bf4fd3",
   "metadata": {},
   "outputs": [],
   "source": [
    "acc_df = acc_df[acc_df[\"country\"] != \"Unknown country\"]"
   ]
  },
  {
   "cell_type": "code",
   "execution_count": 23,
   "id": "dfb3a4f7",
   "metadata": {},
   "outputs": [
    {
     "name": "stdout",
     "output_type": "stream",
     "text": [
      "<class 'pandas.core.frame.DataFrame'>\n",
      "Int64Index: 22701 entries, 3 to 23966\n",
      "Data columns (total 9 columns):\n",
      " #   Column        Non-Null Count  Dtype  \n",
      "---  ------        --------------  -----  \n",
      " 0   date          22701 non-null  object \n",
      " 1   type          22701 non-null  object \n",
      " 2   registration  21283 non-null  object \n",
      " 3   operator      22697 non-null  object \n",
      " 4   fatalities    19449 non-null  float64\n",
      " 5   location      22701 non-null  object \n",
      " 6   country       22701 non-null  object \n",
      " 7   cat           22701 non-null  object \n",
      " 8   year          22701 non-null  object \n",
      "dtypes: float64(1), object(8)\n",
      "memory usage: 1.7+ MB\n"
     ]
    }
   ],
   "source": [
    "acc_df.info()"
   ]
  },
  {
   "cell_type": "code",
   "execution_count": 24,
   "id": "c450486b",
   "metadata": {},
   "outputs": [
    {
     "data": {
      "text/plain": [
       "date            65\n",
       "type            65\n",
       "registration    60\n",
       "operator        65\n",
       "fatalities      28\n",
       "location        65\n",
       "country         65\n",
       "cat             65\n",
       "year            65\n",
       "dtype: int64"
      ]
     },
     "execution_count": 24,
     "metadata": {},
     "output_type": "execute_result"
    }
   ],
   "source": [
    "acc_df[acc_df[\"location\"]==\"unknown\"].count()"
   ]
  },
  {
   "cell_type": "code",
   "execution_count": 25,
   "id": "4566faed",
   "metadata": {},
   "outputs": [],
   "source": [
    "#lets drop the location "
   ]
  },
  {
   "cell_type": "code",
   "execution_count": 26,
   "id": "3437be25",
   "metadata": {},
   "outputs": [
    {
     "name": "stdout",
     "output_type": "stream",
     "text": [
      "<class 'pandas.core.frame.DataFrame'>\n",
      "Int64Index: 22701 entries, 3 to 23966\n",
      "Data columns (total 9 columns):\n",
      " #   Column        Non-Null Count  Dtype  \n",
      "---  ------        --------------  -----  \n",
      " 0   date          22701 non-null  object \n",
      " 1   type          22701 non-null  object \n",
      " 2   registration  21283 non-null  object \n",
      " 3   operator      22697 non-null  object \n",
      " 4   fatalities    19449 non-null  float64\n",
      " 5   location      22701 non-null  object \n",
      " 6   country       22701 non-null  object \n",
      " 7   cat           22701 non-null  object \n",
      " 8   year          22701 non-null  object \n",
      "dtypes: float64(1), object(8)\n",
      "memory usage: 1.7+ MB\n"
     ]
    }
   ],
   "source": [
    "acc_df.info()"
   ]
  },
  {
   "cell_type": "markdown",
   "id": "5d79a89e",
   "metadata": {},
   "source": [
    "Now lets deal with the fatalities column"
   ]
  },
  {
   "cell_type": "code",
   "execution_count": 27,
   "id": "62bb7f90",
   "metadata": {},
   "outputs": [
    {
     "data": {
      "text/plain": [
       "3252"
      ]
     },
     "execution_count": 27,
     "metadata": {},
     "output_type": "execute_result"
    }
   ],
   "source": [
    "# The number of columns with NaN fatalities\n",
    "len(acc_df[acc_df[\"fatalities\"].isna()])"
   ]
  },
  {
   "cell_type": "code",
   "execution_count": 28,
   "id": "72c7c80b",
   "metadata": {},
   "outputs": [
    {
     "data": {
      "text/plain": [
       "count    19449.000000\n",
       "mean         6.182786\n",
       "std         18.781809\n",
       "min          0.000000\n",
       "25%          0.000000\n",
       "50%          0.000000\n",
       "75%          5.000000\n",
       "max        520.000000\n",
       "Name: fatalities, dtype: float64"
      ]
     },
     "execution_count": 28,
     "metadata": {},
     "output_type": "execute_result"
    }
   ],
   "source": [
    "# Let's look at the descriptive statistics of the fatalities column\n",
    "acc_df[\"fatalities\"].describe()"
   ]
  },
  {
   "cell_type": "markdown",
   "id": "cefa13fe",
   "metadata": {},
   "source": [
    "At a glance we can see the mean is at the 3rd quantile of the dataset, so it is not a good measure of central tendency in this case. "
   ]
  },
  {
   "cell_type": "code",
   "execution_count": 29,
   "id": "0171055e",
   "metadata": {},
   "outputs": [
    {
     "data": {
      "text/plain": [
       "0.0"
      ]
     },
     "execution_count": 29,
     "metadata": {},
     "output_type": "execute_result"
    }
   ],
   "source": [
    "# Let's fill the NaN fatalities with the median value\n",
    "fatalities_median = acc_df[\"fatalities\"].median()\n",
    "fatalities_median"
   ]
  },
  {
   "cell_type": "code",
   "execution_count": 30,
   "id": "f3da197c",
   "metadata": {},
   "outputs": [],
   "source": [
    "acc_df[\"fatalities\"].fillna(fatalities_median, inplace=True)"
   ]
  },
  {
   "cell_type": "code",
   "execution_count": 31,
   "id": "ece75c88",
   "metadata": {},
   "outputs": [
    {
     "data": {
      "text/html": [
       "<div>\n",
       "<style scoped>\n",
       "    .dataframe tbody tr th:only-of-type {\n",
       "        vertical-align: middle;\n",
       "    }\n",
       "\n",
       "    .dataframe tbody tr th {\n",
       "        vertical-align: top;\n",
       "    }\n",
       "\n",
       "    .dataframe thead th {\n",
       "        text-align: right;\n",
       "    }\n",
       "</style>\n",
       "<table border=\"1\" class=\"dataframe\">\n",
       "  <thead>\n",
       "    <tr style=\"text-align: right;\">\n",
       "      <th></th>\n",
       "      <th>date</th>\n",
       "      <th>type</th>\n",
       "      <th>registration</th>\n",
       "      <th>operator</th>\n",
       "      <th>fatalities</th>\n",
       "      <th>location</th>\n",
       "      <th>country</th>\n",
       "      <th>cat</th>\n",
       "      <th>year</th>\n",
       "    </tr>\n",
       "  </thead>\n",
       "  <tbody>\n",
       "  </tbody>\n",
       "</table>\n",
       "</div>"
      ],
      "text/plain": [
       "Empty DataFrame\n",
       "Columns: [date, type, registration, operator, fatalities, location, country, cat, year]\n",
       "Index: []"
      ]
     },
     "execution_count": 31,
     "metadata": {},
     "output_type": "execute_result"
    }
   ],
   "source": [
    "acc_df[acc_df[\"fatalities\"].isna()]"
   ]
  },
  {
   "cell_type": "code",
   "execution_count": 32,
   "id": "0f373c54",
   "metadata": {},
   "outputs": [
    {
     "data": {
      "text/plain": [
       "<AxesSubplot:xlabel='fatalities'>"
      ]
     },
     "execution_count": 32,
     "metadata": {},
     "output_type": "execute_result"
    },
    {
     "data": {
      "image/png": "[encoded data removed]",
      "text/plain": [
       "<Figure size 432x288 with 1 Axes>"
      ]
     },
     "metadata": {
      "needs_background": "light"
     },
     "output_type": "display_data"
    }
   ],
   "source": [
    "# Looking at the boxplot of the fatalities column\n",
    "sns.boxplot(x=acc_df[\"fatalities\"])"
   ]
  },
  {
   "cell_type": "markdown",
   "id": "1f59ee9f",
   "metadata": {},
   "source": [
    "**Now all the relevant columns are cleaned. Let's visualize and analyze the data now to meet our objectives**"
   ]
  },
  {
   "cell_type": "code",
   "execution_count": 33,
   "id": "857f9bcf",
   "metadata": {},
   "outputs": [],
   "source": [
    "acc_df.to_csv(\"./data/accidents_cleaned.csv\")"
   ]
  },
  {
   "cell_type": "markdown",
   "id": "77abcc52",
   "metadata": {},
   "source": [
    "## **4. Data Visualization and Analysis**\n",
    "<hr>"
   ]
  },
  {
   "cell_type": "markdown",
   "id": "a35b7525",
   "metadata": {},
   "source": [
    "In this section, we visualize the data and analyse it to get insights"
   ]
  },
  {
   "cell_type": "markdown",
   "id": "ff1803ba",
   "metadata": {},
   "source": [
    "First, lets visualize data for the aircraft types"
   ]
  },
  {
   "cell_type": "code",
   "execution_count": 34,
   "id": "e40da0de",
   "metadata": {},
   "outputs": [],
   "source": [
    "plt.rcParams['axes.labelcolor'] = 'pink'\n",
    "plt.rcParams['xtick.color'] = 'pink'\n",
    "plt.rcParams['ytick.color'] = 'pink'\n",
    "plt.rcParams['text.color'] = 'pink'"
   ]
  },
  {
   "cell_type": "code",
   "execution_count": 35,
   "id": "0b942ef3",
   "metadata": {},
   "outputs": [
    {
     "data": {
      "text/html": [
       "<div>\n",
       "<style scoped>\n",
       "    .dataframe tbody tr th:only-of-type {\n",
       "        vertical-align: middle;\n",
       "    }\n",
       "\n",
       "    .dataframe tbody tr th {\n",
       "        vertical-align: top;\n",
       "    }\n",
       "\n",
       "    .dataframe thead th {\n",
       "        text-align: right;\n",
       "    }\n",
       "</style>\n",
       "<table border=\"1\" class=\"dataframe\">\n",
       "  <thead>\n",
       "    <tr style=\"text-align: right;\">\n",
       "      <th></th>\n",
       "      <th>type</th>\n",
       "      <th>count</th>\n",
       "    </tr>\n",
       "  </thead>\n",
       "  <tbody>\n",
       "    <tr>\n",
       "      <th>0</th>\n",
       "      <td>Douglas C-47A (DC-3)</td>\n",
       "      <td>1746</td>\n",
       "    </tr>\n",
       "    <tr>\n",
       "      <th>1</th>\n",
       "      <td>Douglas C-47 (DC-3)</td>\n",
       "      <td>605</td>\n",
       "    </tr>\n",
       "    <tr>\n",
       "      <th>2</th>\n",
       "      <td>Douglas C-47B (DC-3)</td>\n",
       "      <td>549</td>\n",
       "    </tr>\n",
       "    <tr>\n",
       "      <th>3</th>\n",
       "      <td>Junkers Ju-52/3m</td>\n",
       "      <td>432</td>\n",
       "    </tr>\n",
       "    <tr>\n",
       "      <th>4</th>\n",
       "      <td>Curtiss C-46A</td>\n",
       "      <td>425</td>\n",
       "    </tr>\n",
       "    <tr>\n",
       "      <th>5</th>\n",
       "      <td>Antonov An-2R</td>\n",
       "      <td>355</td>\n",
       "    </tr>\n",
       "    <tr>\n",
       "      <th>6</th>\n",
       "      <td>DHC-6 Twin Otter 300</td>\n",
       "      <td>253</td>\n",
       "    </tr>\n",
       "    <tr>\n",
       "      <th>7</th>\n",
       "      <td>Douglas Dakota III (DC-3)</td>\n",
       "      <td>252</td>\n",
       "    </tr>\n",
       "    <tr>\n",
       "      <th>8</th>\n",
       "      <td>Cessna 208B Grand Caravan</td>\n",
       "      <td>246</td>\n",
       "    </tr>\n",
       "    <tr>\n",
       "      <th>9</th>\n",
       "      <td>Douglas Dakota IV (DC-3)</td>\n",
       "      <td>195</td>\n",
       "    </tr>\n",
       "    <tr>\n",
       "      <th>10</th>\n",
       "      <td>Curtiss C-46D</td>\n",
       "      <td>195</td>\n",
       "    </tr>\n",
       "    <tr>\n",
       "      <th>11</th>\n",
       "      <td>Consolidated PBY-5A Catalina</td>\n",
       "      <td>194</td>\n",
       "    </tr>\n",
       "    <tr>\n",
       "      <th>12</th>\n",
       "      <td>Antonov An-2</td>\n",
       "      <td>169</td>\n",
       "    </tr>\n",
       "    <tr>\n",
       "      <th>13</th>\n",
       "      <td>Consolidated PBY-5 Catalina</td>\n",
       "      <td>164</td>\n",
       "    </tr>\n",
       "    <tr>\n",
       "      <th>14</th>\n",
       "      <td>Lisunov Li-2</td>\n",
       "      <td>154</td>\n",
       "    </tr>\n",
       "    <tr>\n",
       "      <th>15</th>\n",
       "      <td>Beech 200 Super King Air</td>\n",
       "      <td>154</td>\n",
       "    </tr>\n",
       "    <tr>\n",
       "      <th>16</th>\n",
       "      <td>Antonov An-26</td>\n",
       "      <td>130</td>\n",
       "    </tr>\n",
       "    <tr>\n",
       "      <th>17</th>\n",
       "      <td>Lockheed 18 Lodestar</td>\n",
       "      <td>126</td>\n",
       "    </tr>\n",
       "    <tr>\n",
       "      <th>18</th>\n",
       "      <td>Douglas DC-3</td>\n",
       "      <td>118</td>\n",
       "    </tr>\n",
       "    <tr>\n",
       "      <th>19</th>\n",
       "      <td>Boeing 727</td>\n",
       "      <td>113</td>\n",
       "    </tr>\n",
       "    <tr>\n",
       "      <th>20</th>\n",
       "      <td>Lisunov PS-84</td>\n",
       "      <td>109</td>\n",
       "    </tr>\n",
       "    <tr>\n",
       "      <th>21</th>\n",
       "      <td>Yakovlev Yak-40</td>\n",
       "      <td>109</td>\n",
       "    </tr>\n",
       "    <tr>\n",
       "      <th>22</th>\n",
       "      <td>Curtiss C-46F</td>\n",
       "      <td>102</td>\n",
       "    </tr>\n",
       "    <tr>\n",
       "      <th>23</th>\n",
       "      <td>Antonov An-2T</td>\n",
       "      <td>101</td>\n",
       "    </tr>\n",
       "    <tr>\n",
       "      <th>24</th>\n",
       "      <td>Douglas C-54A (DC-4)</td>\n",
       "      <td>101</td>\n",
       "    </tr>\n",
       "    <tr>\n",
       "      <th>25</th>\n",
       "      <td>DHC-3 Otter</td>\n",
       "      <td>98</td>\n",
       "    </tr>\n",
       "    <tr>\n",
       "      <th>26</th>\n",
       "      <td>Consolidated C-87</td>\n",
       "      <td>98</td>\n",
       "    </tr>\n",
       "    <tr>\n",
       "      <th>27</th>\n",
       "      <td>Learjet 35A</td>\n",
       "      <td>89</td>\n",
       "    </tr>\n",
       "    <tr>\n",
       "      <th>28</th>\n",
       "      <td>Douglas DC-3C</td>\n",
       "      <td>83</td>\n",
       "    </tr>\n",
       "    <tr>\n",
       "      <th>29</th>\n",
       "      <td>Cessna 208 Caravan I</td>\n",
       "      <td>82</td>\n",
       "    </tr>\n",
       "  </tbody>\n",
       "</table>\n",
       "</div>"
      ],
      "text/plain": [
       "                            type  count\n",
       "0           Douglas C-47A (DC-3)   1746\n",
       "1            Douglas C-47 (DC-3)    605\n",
       "2           Douglas C-47B (DC-3)    549\n",
       "3               Junkers Ju-52/3m    432\n",
       "4                  Curtiss C-46A    425\n",
       "5                  Antonov An-2R    355\n",
       "6           DHC-6 Twin Otter 300    253\n",
       "7      Douglas Dakota III (DC-3)    252\n",
       "8      Cessna 208B Grand Caravan    246\n",
       "9       Douglas Dakota IV (DC-3)    195\n",
       "10                 Curtiss C-46D    195\n",
       "11  Consolidated PBY-5A Catalina    194\n",
       "12                  Antonov An-2    169\n",
       "13   Consolidated PBY-5 Catalina    164\n",
       "14                  Lisunov Li-2    154\n",
       "15      Beech 200 Super King Air    154\n",
       "16                 Antonov An-26    130\n",
       "17          Lockheed 18 Lodestar    126\n",
       "18                  Douglas DC-3    118\n",
       "19                    Boeing 727    113\n",
       "20                 Lisunov PS-84    109\n",
       "21               Yakovlev Yak-40    109\n",
       "22                 Curtiss C-46F    102\n",
       "23                 Antonov An-2T    101\n",
       "24          Douglas C-54A (DC-4)    101\n",
       "25                   DHC-3 Otter     98\n",
       "26             Consolidated C-87     98\n",
       "27                   Learjet 35A     89\n",
       "28                 Douglas DC-3C     83\n",
       "29          Cessna 208 Caravan I     82"
      ]
     },
     "execution_count": 35,
     "metadata": {},
     "output_type": "execute_result"
    }
   ],
   "source": [
    "type_counts = acc_df[\"type\"].value_counts()\n",
    "type_counts = pd.DataFrame({\n",
    "    \"type\": type_counts.index,\n",
    "    \"count\":type_counts.values\n",
    "})\n",
    "type_counts[:30]\n"
   ]
  },
  {
   "cell_type": "code",
   "execution_count": 36,
   "id": "fd62a14a",
   "metadata": {},
   "outputs": [
    {
     "data": {
      "image/png": "[encoded data removed]",
      "text/plain": [
       "<Figure size 1440x1080 with 1 Axes>"
      ]
     },
     "metadata": {
      "needs_background": "dark"
     },
     "output_type": "display_data"
    }
   ],
   "source": [
    "# A bargraph of the aircrafts and the amount of accidents \n",
    "#type_counts = acc_df[\"type\"].value_counts()\n",
    "title = \"Barplot of the Type of Aircrafts to the number of crashes\"\n",
    "plt.figure(figsize=(20, 15))\n",
    "sns.barplot( y=type_counts[\"type\"][:20], x= type_counts[\"count\"][:20], palette=\"plasma\").set_title(title)\n",
    "\n",
    "\n",
    "plt.show()"
   ]
  },
  {
   "cell_type": "markdown",
   "id": "dc28c9ba",
   "metadata": {},
   "source": [
    "From the bargraph, we can see the Douglass brand is very supcetible to crashes. However, after looking into it it is because most of the top 3 were used as military aircrafts in WWII. From this fact alone we can Infer that WWII and other major wars skew the data. Lets look at the crashnumbers by year."
   ]
  },
  {
   "cell_type": "code",
   "execution_count": 37,
   "id": "d3fd3f80",
   "metadata": {},
   "outputs": [
    {
     "data": {
      "text/plain": [
       "array(['A1', 'A2', 'O1', 'U1', 'H2', 'C1', 'C2', 'H1', 'O2', 'I2', 'I1'],\n",
       "      dtype=object)"
      ]
     },
     "execution_count": 37,
     "metadata": {},
     "output_type": "execute_result"
    }
   ],
   "source": [
    "acc_df[\"cat\"].unique()"
   ]
  },
  {
   "cell_type": "markdown",
   "id": "a1e6e964",
   "metadata": {},
   "source": [
    "For better visualizations in tableu, I have to generate new data frames from the above dataset like the type_counts above and save them to a csv sheet."
   ]
  },
  {
   "cell_type": "code",
   "execution_count": 38,
   "id": "3c27a2bd",
   "metadata": {},
   "outputs": [],
   "source": [
    "type_counts.to_csv(\"./data/viz/type_counts.csv\")"
   ]
  },
  {
   "cell_type": "code",
   "execution_count": 39,
   "id": "dcbc58b2",
   "metadata": {},
   "outputs": [
    {
     "data": {
      "text/plain": [
       "1944    1357\n",
       "1945    1134\n",
       "1943     691\n",
       "1969     372\n",
       "1946     355\n",
       "        ... \n",
       "1924       3\n",
       "1922       3\n",
       "1927       2\n",
       "1925       2\n",
       "1919       2\n",
       "Name: year, Length: 106, dtype: int64"
      ]
     },
     "execution_count": 39,
     "metadata": {},
     "output_type": "execute_result"
    }
   ],
   "source": [
    "# Get the number of accidents per year\n",
    "acc_year = acc_df[\"year\"].value_counts()\n",
    "acc_year"
   ]
  },
  {
   "cell_type": "code",
   "execution_count": 40,
   "id": "19a1d849",
   "metadata": {},
   "outputs": [
    {
     "data": {
      "text/html": [
       "<div>\n",
       "<style scoped>\n",
       "    .dataframe tbody tr th:only-of-type {\n",
       "        vertical-align: middle;\n",
       "    }\n",
       "\n",
       "    .dataframe tbody tr th {\n",
       "        vertical-align: top;\n",
       "    }\n",
       "\n",
       "    .dataframe thead th {\n",
       "        text-align: right;\n",
       "    }\n",
       "</style>\n",
       "<table border=\"1\" class=\"dataframe\">\n",
       "  <thead>\n",
       "    <tr style=\"text-align: right;\">\n",
       "      <th></th>\n",
       "      <th>year</th>\n",
       "      <th>count</th>\n",
       "    </tr>\n",
       "  </thead>\n",
       "  <tbody>\n",
       "    <tr>\n",
       "      <th>0</th>\n",
       "      <td>1944</td>\n",
       "      <td>1357</td>\n",
       "    </tr>\n",
       "    <tr>\n",
       "      <th>1</th>\n",
       "      <td>1945</td>\n",
       "      <td>1134</td>\n",
       "    </tr>\n",
       "    <tr>\n",
       "      <th>2</th>\n",
       "      <td>1943</td>\n",
       "      <td>691</td>\n",
       "    </tr>\n",
       "    <tr>\n",
       "      <th>3</th>\n",
       "      <td>1969</td>\n",
       "      <td>372</td>\n",
       "    </tr>\n",
       "    <tr>\n",
       "      <th>4</th>\n",
       "      <td>1946</td>\n",
       "      <td>355</td>\n",
       "    </tr>\n",
       "    <tr>\n",
       "      <th>...</th>\n",
       "      <td>...</td>\n",
       "      <td>...</td>\n",
       "    </tr>\n",
       "    <tr>\n",
       "      <th>101</th>\n",
       "      <td>1924</td>\n",
       "      <td>3</td>\n",
       "    </tr>\n",
       "    <tr>\n",
       "      <th>102</th>\n",
       "      <td>1922</td>\n",
       "      <td>3</td>\n",
       "    </tr>\n",
       "    <tr>\n",
       "      <th>103</th>\n",
       "      <td>1927</td>\n",
       "      <td>2</td>\n",
       "    </tr>\n",
       "    <tr>\n",
       "      <th>104</th>\n",
       "      <td>1925</td>\n",
       "      <td>2</td>\n",
       "    </tr>\n",
       "    <tr>\n",
       "      <th>105</th>\n",
       "      <td>1919</td>\n",
       "      <td>2</td>\n",
       "    </tr>\n",
       "  </tbody>\n",
       "</table>\n",
       "<p>106 rows × 2 columns</p>\n",
       "</div>"
      ],
      "text/plain": [
       "     year  count\n",
       "0    1944   1357\n",
       "1    1945   1134\n",
       "2    1943    691\n",
       "3    1969    372\n",
       "4    1946    355\n",
       "..    ...    ...\n",
       "101  1924      3\n",
       "102  1922      3\n",
       "103  1927      2\n",
       "104  1925      2\n",
       "105  1919      2\n",
       "\n",
       "[106 rows x 2 columns]"
      ]
     },
     "execution_count": 40,
     "metadata": {},
     "output_type": "execute_result"
    }
   ],
   "source": [
    "acc_per_year = pd.DataFrame({\n",
    "    \"year\": acc_year.index,\n",
    "    \"count\": acc_year.values\n",
    "})\n",
    "acc_per_year"
   ]
  },
  {
   "cell_type": "code",
   "execution_count": 41,
   "id": "69293e25",
   "metadata": {},
   "outputs": [],
   "source": [
    "acc_per_year.to_csv(\"./data/viz/accidents_per_year.csv\",index=False)"
   ]
  },
  {
   "cell_type": "code",
   "execution_count": 42,
   "id": "1b508f04",
   "metadata": {},
   "outputs": [
    {
     "data": {
      "text/plain": [
       "A1    16646\n",
       "A2     2487\n",
       "C1     1151\n",
       "O1     1003\n",
       "H2      978\n",
       "U1      231\n",
       "C2       83\n",
       "O2       65\n",
       "H1       42\n",
       "I2       12\n",
       "I1        3\n",
       "Name: cat, dtype: int64"
      ]
     },
     "execution_count": 42,
     "metadata": {},
     "output_type": "execute_result"
    }
   ],
   "source": [
    "# Now lets do the categories\n",
    "cat_count = acc_df[\"cat\"].value_counts()\n",
    "cat_count"
   ]
  },
  {
   "cell_type": "code",
   "execution_count": 43,
   "id": "d1892a33",
   "metadata": {},
   "outputs": [
    {
     "data": {
      "text/html": [
       "<div>\n",
       "<style scoped>\n",
       "    .dataframe tbody tr th:only-of-type {\n",
       "        vertical-align: middle;\n",
       "    }\n",
       "\n",
       "    .dataframe tbody tr th {\n",
       "        vertical-align: top;\n",
       "    }\n",
       "\n",
       "    .dataframe thead th {\n",
       "        text-align: right;\n",
       "    }\n",
       "</style>\n",
       "<table border=\"1\" class=\"dataframe\">\n",
       "  <thead>\n",
       "    <tr style=\"text-align: right;\">\n",
       "      <th></th>\n",
       "      <th>cat</th>\n",
       "      <th>count</th>\n",
       "    </tr>\n",
       "  </thead>\n",
       "  <tbody>\n",
       "    <tr>\n",
       "      <th>0</th>\n",
       "      <td>A1</td>\n",
       "      <td>16646</td>\n",
       "    </tr>\n",
       "    <tr>\n",
       "      <th>1</th>\n",
       "      <td>A2</td>\n",
       "      <td>2487</td>\n",
       "    </tr>\n",
       "    <tr>\n",
       "      <th>2</th>\n",
       "      <td>C1</td>\n",
       "      <td>1151</td>\n",
       "    </tr>\n",
       "    <tr>\n",
       "      <th>3</th>\n",
       "      <td>O1</td>\n",
       "      <td>1003</td>\n",
       "    </tr>\n",
       "    <tr>\n",
       "      <th>4</th>\n",
       "      <td>H2</td>\n",
       "      <td>978</td>\n",
       "    </tr>\n",
       "    <tr>\n",
       "      <th>5</th>\n",
       "      <td>U1</td>\n",
       "      <td>231</td>\n",
       "    </tr>\n",
       "    <tr>\n",
       "      <th>6</th>\n",
       "      <td>C2</td>\n",
       "      <td>83</td>\n",
       "    </tr>\n",
       "    <tr>\n",
       "      <th>7</th>\n",
       "      <td>O2</td>\n",
       "      <td>65</td>\n",
       "    </tr>\n",
       "    <tr>\n",
       "      <th>8</th>\n",
       "      <td>H1</td>\n",
       "      <td>42</td>\n",
       "    </tr>\n",
       "    <tr>\n",
       "      <th>9</th>\n",
       "      <td>I2</td>\n",
       "      <td>12</td>\n",
       "    </tr>\n",
       "    <tr>\n",
       "      <th>10</th>\n",
       "      <td>I1</td>\n",
       "      <td>3</td>\n",
       "    </tr>\n",
       "  </tbody>\n",
       "</table>\n",
       "</div>"
      ],
      "text/plain": [
       "   cat  count\n",
       "0   A1  16646\n",
       "1   A2   2487\n",
       "2   C1   1151\n",
       "3   O1   1003\n",
       "4   H2    978\n",
       "5   U1    231\n",
       "6   C2     83\n",
       "7   O2     65\n",
       "8   H1     42\n",
       "9   I2     12\n",
       "10  I1      3"
      ]
     },
     "execution_count": 43,
     "metadata": {},
     "output_type": "execute_result"
    }
   ],
   "source": [
    "cat_count_df = pd.DataFrame({\n",
    "    \"cat\": cat_count.index,\n",
    "    \"count\": cat_count.values\n",
    "})\n",
    "cat_count_df"
   ]
  },
  {
   "cell_type": "code",
   "execution_count": 44,
   "id": "b545c985",
   "metadata": {},
   "outputs": [],
   "source": [
    "cat_count_df.to_csv(\"./data/viz/cat_counts.csv\", index=False)"
   ]
  },
  {
   "cell_type": "code",
   "execution_count": 45,
   "id": "5e477ae0",
   "metadata": {},
   "outputs": [
    {
     "data": {
      "text/plain": [
       "Havana-JosÃ© Mar...    105\n",
       "Miami Internatio...     71\n",
       "unknown                 65\n",
       "Beirut Internati...     48\n",
       "Amsterdam-Schiph...     44\n",
       "                      ... \n",
       "Lalibela Airport...      1\n",
       "Mambare Bay              1\n",
       "Sapporo-Okadama ...      1\n",
       "Palm Springs Int...      1\n",
       "Sarsura Glacier,...      1\n",
       "Name: location, Length: 14581, dtype: int64"
      ]
     },
     "execution_count": 45,
     "metadata": {},
     "output_type": "execute_result"
    }
   ],
   "source": [
    "loc_counts = acc_df[\"location\"].value_counts()\n",
    "loc_counts"
   ]
  },
  {
   "cell_type": "code",
   "execution_count": 46,
   "id": "ebc992fd",
   "metadata": {},
   "outputs": [
    {
     "data": {
      "text/html": [
       "<div>\n",
       "<style scoped>\n",
       "    .dataframe tbody tr th:only-of-type {\n",
       "        vertical-align: middle;\n",
       "    }\n",
       "\n",
       "    .dataframe tbody tr th {\n",
       "        vertical-align: top;\n",
       "    }\n",
       "\n",
       "    .dataframe thead th {\n",
       "        text-align: right;\n",
       "    }\n",
       "</style>\n",
       "<table border=\"1\" class=\"dataframe\">\n",
       "  <thead>\n",
       "    <tr style=\"text-align: right;\">\n",
       "      <th></th>\n",
       "      <th>location</th>\n",
       "      <th>count</th>\n",
       "    </tr>\n",
       "  </thead>\n",
       "  <tbody>\n",
       "    <tr>\n",
       "      <th>0</th>\n",
       "      <td>Havana-JosÃ© Mar...</td>\n",
       "      <td>105</td>\n",
       "    </tr>\n",
       "    <tr>\n",
       "      <th>1</th>\n",
       "      <td>Miami Internatio...</td>\n",
       "      <td>71</td>\n",
       "    </tr>\n",
       "    <tr>\n",
       "      <th>2</th>\n",
       "      <td>unknown</td>\n",
       "      <td>65</td>\n",
       "    </tr>\n",
       "    <tr>\n",
       "      <th>3</th>\n",
       "      <td>Beirut Internati...</td>\n",
       "      <td>48</td>\n",
       "    </tr>\n",
       "    <tr>\n",
       "      <th>4</th>\n",
       "      <td>Amsterdam-Schiph...</td>\n",
       "      <td>44</td>\n",
       "    </tr>\n",
       "    <tr>\n",
       "      <th>...</th>\n",
       "      <td>...</td>\n",
       "      <td>...</td>\n",
       "    </tr>\n",
       "    <tr>\n",
       "      <th>14576</th>\n",
       "      <td>Lalibela Airport...</td>\n",
       "      <td>1</td>\n",
       "    </tr>\n",
       "    <tr>\n",
       "      <th>14577</th>\n",
       "      <td>Mambare Bay</td>\n",
       "      <td>1</td>\n",
       "    </tr>\n",
       "    <tr>\n",
       "      <th>14578</th>\n",
       "      <td>Sapporo-Okadama ...</td>\n",
       "      <td>1</td>\n",
       "    </tr>\n",
       "    <tr>\n",
       "      <th>14579</th>\n",
       "      <td>Palm Springs Int...</td>\n",
       "      <td>1</td>\n",
       "    </tr>\n",
       "    <tr>\n",
       "      <th>14580</th>\n",
       "      <td>Sarsura Glacier,...</td>\n",
       "      <td>1</td>\n",
       "    </tr>\n",
       "  </tbody>\n",
       "</table>\n",
       "<p>14581 rows × 2 columns</p>\n",
       "</div>"
      ],
      "text/plain": [
       "                  location  count\n",
       "0      Havana-JosÃ© Mar...    105\n",
       "1      Miami Internatio...     71\n",
       "2                  unknown     65\n",
       "3      Beirut Internati...     48\n",
       "4      Amsterdam-Schiph...     44\n",
       "...                    ...    ...\n",
       "14576  Lalibela Airport...      1\n",
       "14577          Mambare Bay      1\n",
       "14578  Sapporo-Okadama ...      1\n",
       "14579  Palm Springs Int...      1\n",
       "14580  Sarsura Glacier,...      1\n",
       "\n",
       "[14581 rows x 2 columns]"
      ]
     },
     "execution_count": 46,
     "metadata": {},
     "output_type": "execute_result"
    }
   ],
   "source": [
    "loc_counts_df = pd.DataFrame({\n",
    "    \"location\": loc_counts.index,\n",
    "    \"count\": loc_counts.values\n",
    "})\n",
    "loc_counts_df"
   ]
  },
  {
   "cell_type": "code",
   "execution_count": 47,
   "id": "c2fbc378",
   "metadata": {},
   "outputs": [],
   "source": [
    "loc_counts_df.to_csv(\"./data/viz/loc_counts.csv\", index=False)"
   ]
  },
  {
   "cell_type": "code",
   "execution_count": 48,
   "id": "1a432b07",
   "metadata": {},
   "outputs": [],
   "source": [
    "acc_df.groupby([\"cat\",\"type\"])[\"fatalities\"].sum().to_csv(\"./output/cat_type_fat.csv\")"
   ]
  },
  {
   "cell_type": "code",
   "execution_count": 49,
   "id": "5e5f10c0",
   "metadata": {},
   "outputs": [
    {
     "data": {
      "text/plain": [
       "120249.0"
      ]
     },
     "execution_count": 49,
     "metadata": {},
     "output_type": "execute_result"
    }
   ],
   "source": [
    "acc_df[\"fatalities\"].sum()"
   ]
  },
  {
   "cell_type": "markdown",
   "id": "b7a35375",
   "metadata": {},
   "source": [
    "Below are some of the visualizations but more can be found in tableu"
   ]
  },
  {
   "cell_type": "markdown",
   "id": "746d69d4",
   "metadata": {},
   "source": [
    "## **5. Conclusion**"
   ]
  },
  {
   "cell_type": "markdown",
   "id": "caefd34d",
   "metadata": {},
   "source": [
    "### **Objective 1 : Which aircraft is the safest**"
   ]
  },
  {
   "cell_type": "markdown",
   "id": "4da02d81",
   "metadata": {},
   "source": [
    "The airbus seems to have alot of aircrafts with involved in the least crashes. I'd advise the company to invest in Airbus aircrafts due to their safety and wide range of applications."
   ]
  },
  {
   "cell_type": "markdown",
   "id": "40127713",
   "metadata": {},
   "source": [
    "### **Objective 2: Identify the safest and most dangerous countries & locations to fly over**"
   ]
  },
  {
   "cell_type": "markdown",
   "id": "62e5a96d",
   "metadata": {},
   "source": [
    "According to the map, America and Europe have the most accidents. However, most accidents in Europe occured during WWII. In america however, the accidents in the 21 century were still many. While we can conclude that accidents in this regions are great, we have to consider that these regions expirience alot of airtraffic so these numbers are expected."
   ]
  },
  {
   "cell_type": "markdown",
   "id": "448f4d7b",
   "metadata": {},
   "source": [
    "African countries are underrepresented in the data so matbe the company can invest in the continent."
   ]
  },
  {
   "cell_type": "markdown",
   "id": "701de339",
   "metadata": {},
   "source": [
    "### **Objective 3: The most common type of accidents so as to invest in advance in prevetive measures**"
   ]
  },
  {
   "cell_type": "markdown",
   "id": "6bc1a4d1",
   "metadata": {},
   "source": [
    "The most common type of accident is the A1, which means the accident had a high fatality rate(the data shows most fatalities are in this category). This means the company has to invenst alot in airplane servicing and ensure they follow safety regulations and advise to the later. "
   ]
  }
 ],
 "metadata": {
  "kernelspec": {
   "display_name": "learn-env",
   "language": "python",
   "name": "python3"
  },
  "language_info": {
   "codemirror_mode": {
    "name": "ipython",
    "version": 3
   },
   "file_extension": ".py",
   "mimetype": "text/x-python",
   "name": "python",
   "nbconvert_exporter": "python",
   "pygments_lexer": "ipython3",
   "version": "3.8.5"
  }
 },
 "nbformat": 4,
 "nbformat_minor": 5
}
